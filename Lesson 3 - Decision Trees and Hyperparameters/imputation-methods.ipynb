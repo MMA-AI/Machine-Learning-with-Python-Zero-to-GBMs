{
 "cells": [
  {
   "cell_type": "markdown",
   "metadata": {
    "id": "e8p9SQVnPGPH"
   },
   "source": [
    "# imputation-methods\n",
    "\n",
    "Use the \"Run\" button to execute the code."
   ]
  },
  {
   "cell_type": "markdown",
   "metadata": {
    "id": "OjhxWiVMPGPI"
   },
   "source": [
    "## Imputation of Numeric Data for Data Science in Python\n",
    "Imputation means filling the missing values in the given dataset. \n",
    "\n",
    "There are multiple methods of Imputing missing values. The methods that we'll be looking at in this notebook are\n",
    "* SimpleImputer (Univariate imputation)\n",
    "* Iterative Imputer (Multi-variate Imputation)\n",
    "\n",
    "\n",
    "This notebook contains the Imputation techniques, their brief description and examples of each techniques.\n",
    "\n",
    "I hope this will be a helpful resource for anyone who is trying to learn data analysis, particularly methods to deal with missing data.\n",
    "\n",
    "Here is an outline for what we'll do in this project.\n",
    "* Install and import necessary libraries.\n",
    "* Download the dataset from kaggle.\n",
    "* Create a train/test/validation split\n",
    "* Identify input and target columns\n",
    "* Identify numeric and categorical columns\n",
    "* Impute (fill) missing numeric values using multiple techniques\n"
   ]
  },
  {
   "cell_type": "markdown",
   "metadata": {
    "id": "NeXZDLsTPGPJ"
   },
   "source": []
  },
  {
   "cell_type": "code",
   "execution_count": 1,
   "metadata": {
    "executionInfo": {
     "elapsed": 3603,
     "status": "ok",
     "timestamp": 1627377411466,
     "user": {
      "displayName": "Satyam Tiwari",
      "photoUrl": "https://lh3.googleusercontent.com/a-/AOh14GjqLI34ChbXF3k3oSReFsdP3EQ-tinTtJVxPtDl8Q=s64",
      "userId": "18063518489999743566"
     },
     "user_tz": -330
    },
    "id": "OClFDN40PGPJ"
   },
   "outputs": [],
   "source": [
    "!pip install jovian --upgrade --quiet"
   ]
  },
  {
   "cell_type": "code",
   "execution_count": 2,
   "metadata": {
    "executionInfo": {
     "elapsed": 12,
     "status": "ok",
     "timestamp": 1627377347054,
     "user": {
      "displayName": "Satyam Tiwari",
      "photoUrl": "https://lh3.googleusercontent.com/a-/AOh14GjqLI34ChbXF3k3oSReFsdP3EQ-tinTtJVxPtDl8Q=s64",
      "userId": "18063518489999743566"
     },
     "user_tz": -330
    },
    "id": "YJenFpzvPGPJ"
   },
   "outputs": [],
   "source": [
    "import jovian"
   ]
  },
  {
   "cell_type": "code",
   "execution_count": 3,
   "metadata": {
    "colab": {
     "base_uri": "https://localhost:8080/",
     "height": 105
    },
    "executionInfo": {
     "elapsed": 3578,
     "status": "ok",
     "timestamp": 1627377350622,
     "user": {
      "displayName": "Satyam Tiwari",
      "photoUrl": "https://lh3.googleusercontent.com/a-/AOh14GjqLI34ChbXF3k3oSReFsdP3EQ-tinTtJVxPtDl8Q=s64",
      "userId": "18063518489999743566"
     },
     "user_tz": -330
    },
    "id": "7MYS1cf3PGPJ",
    "outputId": "8291f9e7-81fc-4c9e-ea31-fb942ea8deeb"
   },
   "outputs": [
    {
     "data": {
      "application/javascript": [
       "window.require && require([\"base/js/namespace\"],function(Jupyter){Jupyter.notebook.save_checkpoint()})"
      ],
      "text/plain": [
       "<IPython.core.display.Javascript object>"
      ]
     },
     "metadata": {},
     "output_type": "display_data"
    },
    {
     "name": "stdout",
     "output_type": "stream",
     "text": [
      "[jovian] Updating notebook \"satyamtiwari1920/imputation-methods\" on https://jovian.ai\u001b[0m\n",
      "[jovian] Uploading additional outputs...\u001b[0m\n"
     ]
    },
    {
     "name": "stderr",
     "output_type": "stream",
     "text": [
      "\u001b[31m[jovian] Error: Ignoring \"weather-dataset-rattle-package/weatherAUS.csv\" (not found)\u001b[0m\n"
     ]
    },
    {
     "name": "stdout",
     "output_type": "stream",
     "text": [
      "[jovian] Committed successfully! https://jovian.ai/satyamtiwari1920/imputation-methods\u001b[0m\n"
     ]
    },
    {
     "data": {
      "text/plain": [
       "'https://jovian.ai/satyamtiwari1920/imputation-methods'"
      ]
     },
     "execution_count": 3,
     "metadata": {},
     "output_type": "execute_result"
    }
   ],
   "source": [
    "# Execute this to save new versions of the notebook\n",
    "jovian.commit(project=\"imputation-methods\", outputs=['weather-dataset-rattle-package/weatherAUS.csv'])"
   ]
  },
  {
   "cell_type": "markdown",
   "metadata": {
    "id": "VOeeXRa8PGPK"
   },
   "source": [
    "Let's first install all the necessary libraries."
   ]
  },
  {
   "cell_type": "code",
   "execution_count": 4,
   "metadata": {
    "executionInfo": {
     "elapsed": 5496,
     "status": "ok",
     "timestamp": 1627377356113,
     "user": {
      "displayName": "Satyam Tiwari",
      "photoUrl": "https://lh3.googleusercontent.com/a-/AOh14GjqLI34ChbXF3k3oSReFsdP3EQ-tinTtJVxPtDl8Q=s64",
      "userId": "18063518489999743566"
     },
     "user_tz": -330
    },
    "id": "Z3zZu3IjPGPL"
   },
   "outputs": [],
   "source": [
    "!pip install pandas numpy matplotlib seaborn opendatasets scikit-learn --quiet --upgrade"
   ]
  },
  {
   "cell_type": "markdown",
   "metadata": {
    "id": "biZvVtHQPGPL"
   },
   "source": [
    "Pandas to analysis of data\n",
    "\n",
    "NumPy for numerical operations on the data\n",
    "\n",
    "Matplotlib and Seaborn for making charts and plots\n",
    "\n",
    "opendatasets to download the data from online sources like kaggle.com\n",
    "\n",
    "scikit-learn for performing machine learning operations"
   ]
  },
  {
   "cell_type": "markdown",
   "metadata": {
    "id": "5cADiRMTPGPM"
   },
   "source": [
    "Now that we have installed the libraries, it's time to import these libraries to use them in the notebook."
   ]
  },
  {
   "cell_type": "code",
   "execution_count": 5,
   "metadata": {
    "executionInfo": {
     "elapsed": 18,
     "status": "ok",
     "timestamp": 1627377356114,
     "user": {
      "displayName": "Satyam Tiwari",
      "photoUrl": "https://lh3.googleusercontent.com/a-/AOh14GjqLI34ChbXF3k3oSReFsdP3EQ-tinTtJVxPtDl8Q=s64",
      "userId": "18063518489999743566"
     },
     "user_tz": -330
    },
    "id": "mnqYOg5OPGPM"
   },
   "outputs": [],
   "source": [
    "import opendatasets as od\n",
    "import matplotlib.pyplot as plt\n",
    "import seaborn as sns\n",
    "import pandas as pd\n",
    "import numpy as np\n",
    "import matplotlib\n",
    "import os\n",
    "%matplotlib inline\n",
    "\n",
    "# Setting display options to view dataframe and charts easily\n",
    "pd.set_option('display.max_columns', None)\n",
    "pd.set_option('display.max_rows',150)\n",
    "sns.set_style('darkgrid')\n",
    "matplotlib.rcParams['font.size']= 14\n",
    "matplotlib.rcParams['figure.figsize']=(12,7)\n",
    "matplotlib.rcParams['figure.facecolor']='#00000000'"
   ]
  },
  {
   "cell_type": "markdown",
   "metadata": {
    "id": "OdQl7l5HPGPM"
   },
   "source": [
    "## Downloading the data set\n",
    "\n",
    "The dataset is available at https://www.kaggle.com/jsphyg/weather-dataset-rattle-package .\n",
    "\n",
    "\n",
    "We'll use the [`opendatasets` library](https://github.com/JovianML/opendatasets) to download the data from Kaggle directly within Jupyter. "
   ]
  },
  {
   "cell_type": "code",
   "execution_count": 6,
   "metadata": {
    "colab": {
     "base_uri": "https://localhost:8080/"
    },
    "executionInfo": {
     "elapsed": 18,
     "status": "ok",
     "timestamp": 1627377356115,
     "user": {
      "displayName": "Satyam Tiwari",
      "photoUrl": "https://lh3.googleusercontent.com/a-/AOh14GjqLI34ChbXF3k3oSReFsdP3EQ-tinTtJVxPtDl8Q=s64",
      "userId": "18063518489999743566"
     },
     "user_tz": -330
    },
    "id": "Z7QKXh99PGPN",
    "outputId": "35e55b37-cb9d-43aa-8bcd-795912eddd75"
   },
   "outputs": [
    {
     "name": "stdout",
     "output_type": "stream",
     "text": [
      "Please provide your Kaggle credentials to download this dataset. Learn more: http://bit.ly/kaggle-creds\n",
      "Your Kaggle username: satyamtiwari1920\n",
      "Your Kaggle Key: ········\n",
      "Downloading weather-dataset-rattle-package.zip to ./weather-dataset-rattle-package\n"
     ]
    },
    {
     "name": "stderr",
     "output_type": "stream",
     "text": [
      "100%|██████████| 3.83M/3.83M [00:00<00:00, 47.4MB/s]"
     ]
    },
    {
     "name": "stdout",
     "output_type": "stream",
     "text": [
      "\n"
     ]
    },
    {
     "name": "stderr",
     "output_type": "stream",
     "text": [
      "\n"
     ]
    }
   ],
   "source": [
    "od.download('https://www.kaggle.com/jsphyg/weather-dataset-rattle-package')"
   ]
  },
  {
   "cell_type": "markdown",
   "metadata": {
    "id": "fF8AfMCePGPN"
   },
   "source": [
    "While downloading dataset from Kaggle you'll be asked your Kaggle username and Kaggle api key which can be generated from my profile section of your kaggle profile. \n",
    "\n",
    "To get you api key find and click on `Create new API token` button in your kaggle profile."
   ]
  },
  {
   "cell_type": "markdown",
   "metadata": {
    "id": "rO1H3r09PGPN"
   },
   "source": [
    "The dataset is downloaded and extrated to the folder `weather-dataset-rattle-package`."
   ]
  },
  {
   "cell_type": "code",
   "execution_count": 7,
   "metadata": {
    "colab": {
     "base_uri": "https://localhost:8080/"
    },
    "executionInfo": {
     "elapsed": 15,
     "status": "ok",
     "timestamp": 1627377356116,
     "user": {
      "displayName": "Satyam Tiwari",
      "photoUrl": "https://lh3.googleusercontent.com/a-/AOh14GjqLI34ChbXF3k3oSReFsdP3EQ-tinTtJVxPtDl8Q=s64",
      "userId": "18063518489999743566"
     },
     "user_tz": -330
    },
    "id": "8Y2wuEWqPGPN",
    "outputId": "a9757db6-03cd-484d-d78d-900672dc577a"
   },
   "outputs": [
    {
     "data": {
      "text/plain": [
       "['weatherAUS.csv']"
      ]
     },
     "execution_count": 7,
     "metadata": {},
     "output_type": "execute_result"
    }
   ],
   "source": [
    "os.listdir('weather-dataset-rattle-package')"
   ]
  },
  {
   "cell_type": "code",
   "execution_count": 8,
   "metadata": {
    "executionInfo": {
     "elapsed": 844,
     "status": "ok",
     "timestamp": 1627377356950,
     "user": {
      "displayName": "Satyam Tiwari",
      "photoUrl": "https://lh3.googleusercontent.com/a-/AOh14GjqLI34ChbXF3k3oSReFsdP3EQ-tinTtJVxPtDl8Q=s64",
      "userId": "18063518489999743566"
     },
     "user_tz": -330
    },
    "id": "gL5v9ZeuPGPN"
   },
   "outputs": [],
   "source": [
    "# loading the dataset using pandas\n",
    "df = pd.read_csv('weather-dataset-rattle-package/weatherAUS.csv')"
   ]
  },
  {
   "cell_type": "code",
   "execution_count": 9,
   "metadata": {
    "colab": {
     "base_uri": "https://localhost:8080/",
     "height": 1000
    },
    "executionInfo": {
     "elapsed": 81,
     "status": "ok",
     "timestamp": 1627377356952,
     "user": {
      "displayName": "Satyam Tiwari",
      "photoUrl": "https://lh3.googleusercontent.com/a-/AOh14GjqLI34ChbXF3k3oSReFsdP3EQ-tinTtJVxPtDl8Q=s64",
      "userId": "18063518489999743566"
     },
     "user_tz": -330
    },
    "id": "0YA7gwTlPGPO",
    "outputId": "0516a650-484e-465a-995c-ef7e7a4b848c"
   },
   "outputs": [
    {
     "data": {
      "text/html": [
       "<div>\n",
       "<style scoped>\n",
       "    .dataframe tbody tr th:only-of-type {\n",
       "        vertical-align: middle;\n",
       "    }\n",
       "\n",
       "    .dataframe tbody tr th {\n",
       "        vertical-align: top;\n",
       "    }\n",
       "\n",
       "    .dataframe thead th {\n",
       "        text-align: right;\n",
       "    }\n",
       "</style>\n",
       "<table border=\"1\" class=\"dataframe\">\n",
       "  <thead>\n",
       "    <tr style=\"text-align: right;\">\n",
       "      <th></th>\n",
       "      <th>Date</th>\n",
       "      <th>Location</th>\n",
       "      <th>MinTemp</th>\n",
       "      <th>MaxTemp</th>\n",
       "      <th>Rainfall</th>\n",
       "      <th>Evaporation</th>\n",
       "      <th>Sunshine</th>\n",
       "      <th>WindGustDir</th>\n",
       "      <th>WindGustSpeed</th>\n",
       "      <th>WindDir9am</th>\n",
       "      <th>WindDir3pm</th>\n",
       "      <th>WindSpeed9am</th>\n",
       "      <th>WindSpeed3pm</th>\n",
       "      <th>Humidity9am</th>\n",
       "      <th>Humidity3pm</th>\n",
       "      <th>Pressure9am</th>\n",
       "      <th>Pressure3pm</th>\n",
       "      <th>Cloud9am</th>\n",
       "      <th>Cloud3pm</th>\n",
       "      <th>Temp9am</th>\n",
       "      <th>Temp3pm</th>\n",
       "      <th>RainToday</th>\n",
       "      <th>RainTomorrow</th>\n",
       "    </tr>\n",
       "  </thead>\n",
       "  <tbody>\n",
       "    <tr>\n",
       "      <th>0</th>\n",
       "      <td>2008-12-01</td>\n",
       "      <td>Albury</td>\n",
       "      <td>13.4</td>\n",
       "      <td>22.9</td>\n",
       "      <td>0.6</td>\n",
       "      <td>NaN</td>\n",
       "      <td>NaN</td>\n",
       "      <td>W</td>\n",
       "      <td>44.0</td>\n",
       "      <td>W</td>\n",
       "      <td>WNW</td>\n",
       "      <td>20.0</td>\n",
       "      <td>24.0</td>\n",
       "      <td>71.0</td>\n",
       "      <td>22.0</td>\n",
       "      <td>1007.7</td>\n",
       "      <td>1007.1</td>\n",
       "      <td>8.0</td>\n",
       "      <td>NaN</td>\n",
       "      <td>16.9</td>\n",
       "      <td>21.8</td>\n",
       "      <td>No</td>\n",
       "      <td>No</td>\n",
       "    </tr>\n",
       "    <tr>\n",
       "      <th>1</th>\n",
       "      <td>2008-12-02</td>\n",
       "      <td>Albury</td>\n",
       "      <td>7.4</td>\n",
       "      <td>25.1</td>\n",
       "      <td>0.0</td>\n",
       "      <td>NaN</td>\n",
       "      <td>NaN</td>\n",
       "      <td>WNW</td>\n",
       "      <td>44.0</td>\n",
       "      <td>NNW</td>\n",
       "      <td>WSW</td>\n",
       "      <td>4.0</td>\n",
       "      <td>22.0</td>\n",
       "      <td>44.0</td>\n",
       "      <td>25.0</td>\n",
       "      <td>1010.6</td>\n",
       "      <td>1007.8</td>\n",
       "      <td>NaN</td>\n",
       "      <td>NaN</td>\n",
       "      <td>17.2</td>\n",
       "      <td>24.3</td>\n",
       "      <td>No</td>\n",
       "      <td>No</td>\n",
       "    </tr>\n",
       "    <tr>\n",
       "      <th>2</th>\n",
       "      <td>2008-12-03</td>\n",
       "      <td>Albury</td>\n",
       "      <td>12.9</td>\n",
       "      <td>25.7</td>\n",
       "      <td>0.0</td>\n",
       "      <td>NaN</td>\n",
       "      <td>NaN</td>\n",
       "      <td>WSW</td>\n",
       "      <td>46.0</td>\n",
       "      <td>W</td>\n",
       "      <td>WSW</td>\n",
       "      <td>19.0</td>\n",
       "      <td>26.0</td>\n",
       "      <td>38.0</td>\n",
       "      <td>30.0</td>\n",
       "      <td>1007.6</td>\n",
       "      <td>1008.7</td>\n",
       "      <td>NaN</td>\n",
       "      <td>2.0</td>\n",
       "      <td>21.0</td>\n",
       "      <td>23.2</td>\n",
       "      <td>No</td>\n",
       "      <td>No</td>\n",
       "    </tr>\n",
       "    <tr>\n",
       "      <th>3</th>\n",
       "      <td>2008-12-04</td>\n",
       "      <td>Albury</td>\n",
       "      <td>9.2</td>\n",
       "      <td>28.0</td>\n",
       "      <td>0.0</td>\n",
       "      <td>NaN</td>\n",
       "      <td>NaN</td>\n",
       "      <td>NE</td>\n",
       "      <td>24.0</td>\n",
       "      <td>SE</td>\n",
       "      <td>E</td>\n",
       "      <td>11.0</td>\n",
       "      <td>9.0</td>\n",
       "      <td>45.0</td>\n",
       "      <td>16.0</td>\n",
       "      <td>1017.6</td>\n",
       "      <td>1012.8</td>\n",
       "      <td>NaN</td>\n",
       "      <td>NaN</td>\n",
       "      <td>18.1</td>\n",
       "      <td>26.5</td>\n",
       "      <td>No</td>\n",
       "      <td>No</td>\n",
       "    </tr>\n",
       "    <tr>\n",
       "      <th>4</th>\n",
       "      <td>2008-12-05</td>\n",
       "      <td>Albury</td>\n",
       "      <td>17.5</td>\n",
       "      <td>32.3</td>\n",
       "      <td>1.0</td>\n",
       "      <td>NaN</td>\n",
       "      <td>NaN</td>\n",
       "      <td>W</td>\n",
       "      <td>41.0</td>\n",
       "      <td>ENE</td>\n",
       "      <td>NW</td>\n",
       "      <td>7.0</td>\n",
       "      <td>20.0</td>\n",
       "      <td>82.0</td>\n",
       "      <td>33.0</td>\n",
       "      <td>1010.8</td>\n",
       "      <td>1006.0</td>\n",
       "      <td>7.0</td>\n",
       "      <td>8.0</td>\n",
       "      <td>17.8</td>\n",
       "      <td>29.7</td>\n",
       "      <td>No</td>\n",
       "      <td>No</td>\n",
       "    </tr>\n",
       "    <tr>\n",
       "      <th>...</th>\n",
       "      <td>...</td>\n",
       "      <td>...</td>\n",
       "      <td>...</td>\n",
       "      <td>...</td>\n",
       "      <td>...</td>\n",
       "      <td>...</td>\n",
       "      <td>...</td>\n",
       "      <td>...</td>\n",
       "      <td>...</td>\n",
       "      <td>...</td>\n",
       "      <td>...</td>\n",
       "      <td>...</td>\n",
       "      <td>...</td>\n",
       "      <td>...</td>\n",
       "      <td>...</td>\n",
       "      <td>...</td>\n",
       "      <td>...</td>\n",
       "      <td>...</td>\n",
       "      <td>...</td>\n",
       "      <td>...</td>\n",
       "      <td>...</td>\n",
       "      <td>...</td>\n",
       "      <td>...</td>\n",
       "    </tr>\n",
       "    <tr>\n",
       "      <th>145455</th>\n",
       "      <td>2017-06-21</td>\n",
       "      <td>Uluru</td>\n",
       "      <td>2.8</td>\n",
       "      <td>23.4</td>\n",
       "      <td>0.0</td>\n",
       "      <td>NaN</td>\n",
       "      <td>NaN</td>\n",
       "      <td>E</td>\n",
       "      <td>31.0</td>\n",
       "      <td>SE</td>\n",
       "      <td>ENE</td>\n",
       "      <td>13.0</td>\n",
       "      <td>11.0</td>\n",
       "      <td>51.0</td>\n",
       "      <td>24.0</td>\n",
       "      <td>1024.6</td>\n",
       "      <td>1020.3</td>\n",
       "      <td>NaN</td>\n",
       "      <td>NaN</td>\n",
       "      <td>10.1</td>\n",
       "      <td>22.4</td>\n",
       "      <td>No</td>\n",
       "      <td>No</td>\n",
       "    </tr>\n",
       "    <tr>\n",
       "      <th>145456</th>\n",
       "      <td>2017-06-22</td>\n",
       "      <td>Uluru</td>\n",
       "      <td>3.6</td>\n",
       "      <td>25.3</td>\n",
       "      <td>0.0</td>\n",
       "      <td>NaN</td>\n",
       "      <td>NaN</td>\n",
       "      <td>NNW</td>\n",
       "      <td>22.0</td>\n",
       "      <td>SE</td>\n",
       "      <td>N</td>\n",
       "      <td>13.0</td>\n",
       "      <td>9.0</td>\n",
       "      <td>56.0</td>\n",
       "      <td>21.0</td>\n",
       "      <td>1023.5</td>\n",
       "      <td>1019.1</td>\n",
       "      <td>NaN</td>\n",
       "      <td>NaN</td>\n",
       "      <td>10.9</td>\n",
       "      <td>24.5</td>\n",
       "      <td>No</td>\n",
       "      <td>No</td>\n",
       "    </tr>\n",
       "    <tr>\n",
       "      <th>145457</th>\n",
       "      <td>2017-06-23</td>\n",
       "      <td>Uluru</td>\n",
       "      <td>5.4</td>\n",
       "      <td>26.9</td>\n",
       "      <td>0.0</td>\n",
       "      <td>NaN</td>\n",
       "      <td>NaN</td>\n",
       "      <td>N</td>\n",
       "      <td>37.0</td>\n",
       "      <td>SE</td>\n",
       "      <td>WNW</td>\n",
       "      <td>9.0</td>\n",
       "      <td>9.0</td>\n",
       "      <td>53.0</td>\n",
       "      <td>24.0</td>\n",
       "      <td>1021.0</td>\n",
       "      <td>1016.8</td>\n",
       "      <td>NaN</td>\n",
       "      <td>NaN</td>\n",
       "      <td>12.5</td>\n",
       "      <td>26.1</td>\n",
       "      <td>No</td>\n",
       "      <td>No</td>\n",
       "    </tr>\n",
       "    <tr>\n",
       "      <th>145458</th>\n",
       "      <td>2017-06-24</td>\n",
       "      <td>Uluru</td>\n",
       "      <td>7.8</td>\n",
       "      <td>27.0</td>\n",
       "      <td>0.0</td>\n",
       "      <td>NaN</td>\n",
       "      <td>NaN</td>\n",
       "      <td>SE</td>\n",
       "      <td>28.0</td>\n",
       "      <td>SSE</td>\n",
       "      <td>N</td>\n",
       "      <td>13.0</td>\n",
       "      <td>7.0</td>\n",
       "      <td>51.0</td>\n",
       "      <td>24.0</td>\n",
       "      <td>1019.4</td>\n",
       "      <td>1016.5</td>\n",
       "      <td>3.0</td>\n",
       "      <td>2.0</td>\n",
       "      <td>15.1</td>\n",
       "      <td>26.0</td>\n",
       "      <td>No</td>\n",
       "      <td>No</td>\n",
       "    </tr>\n",
       "    <tr>\n",
       "      <th>145459</th>\n",
       "      <td>2017-06-25</td>\n",
       "      <td>Uluru</td>\n",
       "      <td>14.9</td>\n",
       "      <td>NaN</td>\n",
       "      <td>0.0</td>\n",
       "      <td>NaN</td>\n",
       "      <td>NaN</td>\n",
       "      <td>NaN</td>\n",
       "      <td>NaN</td>\n",
       "      <td>ESE</td>\n",
       "      <td>ESE</td>\n",
       "      <td>17.0</td>\n",
       "      <td>17.0</td>\n",
       "      <td>62.0</td>\n",
       "      <td>36.0</td>\n",
       "      <td>1020.2</td>\n",
       "      <td>1017.9</td>\n",
       "      <td>8.0</td>\n",
       "      <td>8.0</td>\n",
       "      <td>15.0</td>\n",
       "      <td>20.9</td>\n",
       "      <td>No</td>\n",
       "      <td>NaN</td>\n",
       "    </tr>\n",
       "  </tbody>\n",
       "</table>\n",
       "<p>145460 rows × 23 columns</p>\n",
       "</div>"
      ],
      "text/plain": [
       "              Date Location  MinTemp  MaxTemp  Rainfall  Evaporation  \\\n",
       "0       2008-12-01   Albury     13.4     22.9       0.6          NaN   \n",
       "1       2008-12-02   Albury      7.4     25.1       0.0          NaN   \n",
       "2       2008-12-03   Albury     12.9     25.7       0.0          NaN   \n",
       "3       2008-12-04   Albury      9.2     28.0       0.0          NaN   \n",
       "4       2008-12-05   Albury     17.5     32.3       1.0          NaN   \n",
       "...            ...      ...      ...      ...       ...          ...   \n",
       "145455  2017-06-21    Uluru      2.8     23.4       0.0          NaN   \n",
       "145456  2017-06-22    Uluru      3.6     25.3       0.0          NaN   \n",
       "145457  2017-06-23    Uluru      5.4     26.9       0.0          NaN   \n",
       "145458  2017-06-24    Uluru      7.8     27.0       0.0          NaN   \n",
       "145459  2017-06-25    Uluru     14.9      NaN       0.0          NaN   \n",
       "\n",
       "        Sunshine WindGustDir  WindGustSpeed WindDir9am WindDir3pm  \\\n",
       "0            NaN           W           44.0          W        WNW   \n",
       "1            NaN         WNW           44.0        NNW        WSW   \n",
       "2            NaN         WSW           46.0          W        WSW   \n",
       "3            NaN          NE           24.0         SE          E   \n",
       "4            NaN           W           41.0        ENE         NW   \n",
       "...          ...         ...            ...        ...        ...   \n",
       "145455       NaN           E           31.0         SE        ENE   \n",
       "145456       NaN         NNW           22.0         SE          N   \n",
       "145457       NaN           N           37.0         SE        WNW   \n",
       "145458       NaN          SE           28.0        SSE          N   \n",
       "145459       NaN         NaN            NaN        ESE        ESE   \n",
       "\n",
       "        WindSpeed9am  WindSpeed3pm  Humidity9am  Humidity3pm  Pressure9am  \\\n",
       "0               20.0          24.0         71.0         22.0       1007.7   \n",
       "1                4.0          22.0         44.0         25.0       1010.6   \n",
       "2               19.0          26.0         38.0         30.0       1007.6   \n",
       "3               11.0           9.0         45.0         16.0       1017.6   \n",
       "4                7.0          20.0         82.0         33.0       1010.8   \n",
       "...              ...           ...          ...          ...          ...   \n",
       "145455          13.0          11.0         51.0         24.0       1024.6   \n",
       "145456          13.0           9.0         56.0         21.0       1023.5   \n",
       "145457           9.0           9.0         53.0         24.0       1021.0   \n",
       "145458          13.0           7.0         51.0         24.0       1019.4   \n",
       "145459          17.0          17.0         62.0         36.0       1020.2   \n",
       "\n",
       "        Pressure3pm  Cloud9am  Cloud3pm  Temp9am  Temp3pm RainToday  \\\n",
       "0            1007.1       8.0       NaN     16.9     21.8        No   \n",
       "1            1007.8       NaN       NaN     17.2     24.3        No   \n",
       "2            1008.7       NaN       2.0     21.0     23.2        No   \n",
       "3            1012.8       NaN       NaN     18.1     26.5        No   \n",
       "4            1006.0       7.0       8.0     17.8     29.7        No   \n",
       "...             ...       ...       ...      ...      ...       ...   \n",
       "145455       1020.3       NaN       NaN     10.1     22.4        No   \n",
       "145456       1019.1       NaN       NaN     10.9     24.5        No   \n",
       "145457       1016.8       NaN       NaN     12.5     26.1        No   \n",
       "145458       1016.5       3.0       2.0     15.1     26.0        No   \n",
       "145459       1017.9       8.0       8.0     15.0     20.9        No   \n",
       "\n",
       "       RainTomorrow  \n",
       "0                No  \n",
       "1                No  \n",
       "2                No  \n",
       "3                No  \n",
       "4                No  \n",
       "...             ...  \n",
       "145455           No  \n",
       "145456           No  \n",
       "145457           No  \n",
       "145458           No  \n",
       "145459          NaN  \n",
       "\n",
       "[145460 rows x 23 columns]"
      ]
     },
     "execution_count": 9,
     "metadata": {},
     "output_type": "execute_result"
    }
   ],
   "source": [
    "# Looking at the dataset\n",
    "df"
   ]
  },
  {
   "cell_type": "code",
   "execution_count": 10,
   "metadata": {
    "colab": {
     "base_uri": "https://localhost:8080/"
    },
    "executionInfo": {
     "elapsed": 76,
     "status": "ok",
     "timestamp": 1627377356953,
     "user": {
      "displayName": "Satyam Tiwari",
      "photoUrl": "https://lh3.googleusercontent.com/a-/AOh14GjqLI34ChbXF3k3oSReFsdP3EQ-tinTtJVxPtDl8Q=s64",
      "userId": "18063518489999743566"
     },
     "user_tz": -330
    },
    "id": "torrOWnyPGPO",
    "outputId": "db6b9fef-c2bb-4f68-ce37-d4929c1483ed"
   },
   "outputs": [
    {
     "name": "stdout",
     "output_type": "stream",
     "text": [
      "<class 'pandas.core.frame.DataFrame'>\n",
      "RangeIndex: 145460 entries, 0 to 145459\n",
      "Data columns (total 23 columns):\n",
      " #   Column         Non-Null Count   Dtype  \n",
      "---  ------         --------------   -----  \n",
      " 0   Date           145460 non-null  object \n",
      " 1   Location       145460 non-null  object \n",
      " 2   MinTemp        143975 non-null  float64\n",
      " 3   MaxTemp        144199 non-null  float64\n",
      " 4   Rainfall       142199 non-null  float64\n",
      " 5   Evaporation    82670 non-null   float64\n",
      " 6   Sunshine       75625 non-null   float64\n",
      " 7   WindGustDir    135134 non-null  object \n",
      " 8   WindGustSpeed  135197 non-null  float64\n",
      " 9   WindDir9am     134894 non-null  object \n",
      " 10  WindDir3pm     141232 non-null  object \n",
      " 11  WindSpeed9am   143693 non-null  float64\n",
      " 12  WindSpeed3pm   142398 non-null  float64\n",
      " 13  Humidity9am    142806 non-null  float64\n",
      " 14  Humidity3pm    140953 non-null  float64\n",
      " 15  Pressure9am    130395 non-null  float64\n",
      " 16  Pressure3pm    130432 non-null  float64\n",
      " 17  Cloud9am       89572 non-null   float64\n",
      " 18  Cloud3pm       86102 non-null   float64\n",
      " 19  Temp9am        143693 non-null  float64\n",
      " 20  Temp3pm        141851 non-null  float64\n",
      " 21  RainToday      142199 non-null  object \n",
      " 22  RainTomorrow   142193 non-null  object \n",
      "dtypes: float64(16), object(7)\n",
      "memory usage: 25.5+ MB\n"
     ]
    }
   ],
   "source": [
    "# let's check the column types of the dataset\n",
    "df.info()"
   ]
  },
  {
   "cell_type": "markdown",
   "metadata": {
    "id": "Y2VfEuRLPGPO"
   },
   "source": [
    "When performing data analysis it is important to know which column/columns are our target columns.\n",
    "\n",
    "In this case our target column is `RainTomorrow`.\n",
    "\n",
    "We can't impute the values of our target columns as if we do so there will not be any sense of performing the data analysis so it's better to drop the rows which have a missing value for our target column"
   ]
  },
  {
   "cell_type": "code",
   "execution_count": 11,
   "metadata": {
    "colab": {
     "base_uri": "https://localhost:8080/",
     "height": 311
    },
    "executionInfo": {
     "elapsed": 146,
     "status": "error",
     "timestamp": 1627377357028,
     "user": {
      "displayName": "Satyam Tiwari",
      "photoUrl": "https://lh3.googleusercontent.com/a-/AOh14GjqLI34ChbXF3k3oSReFsdP3EQ-tinTtJVxPtDl8Q=s64",
      "userId": "18063518489999743566"
     },
     "user_tz": -330
    },
    "id": "xaR8FOl8PGPO",
    "outputId": "1d641fbf-46be-4f17-a8a0-e4f1a03cb1d8"
   },
   "outputs": [],
   "source": [
    "df.dropna(subset=['RainTomorrow'], inplace= True)"
   ]
  },
  {
   "cell_type": "markdown",
   "metadata": {
    "id": "PnboBHzkPGPO"
   },
   "source": [
    "At this stage we can perform some exploratory data analysis on our dataset."
   ]
  },
  {
   "cell_type": "markdown",
   "metadata": {
    "id": "mGc0YIOlPGPP"
   },
   "source": [
    "## Preparing the Data for Training\n",
    "\n",
    "The following are the steps that are followed while preparing dataset for training.\n",
    "\n",
    "1. Create a train/test/validation split\n",
    "2. Identify input and target columns\n",
    "3. Identify numeric and categorical columns\n",
    "4. Impute (fill) missing numeric values\n",
    "5. Scale numeric values to the $(0, 1)$ range\n",
    "6. Encode categorical columns to one-hot vectors\n",
    "\n",
    "In this notebook our focus will mainly be on the 4th step ie. to Impute (Fill) missing numeric values. "
   ]
  },
  {
   "cell_type": "markdown",
   "metadata": {
    "id": "rWvTskzcPGPP"
   },
   "source": [
    "Let's begin with making Training, Validation and Test sets"
   ]
  },
  {
   "cell_type": "code",
   "execution_count": 12,
   "metadata": {
    "executionInfo": {
     "elapsed": 70,
     "status": "aborted",
     "timestamp": 1627377356955,
     "user": {
      "displayName": "Satyam Tiwari",
      "photoUrl": "https://lh3.googleusercontent.com/a-/AOh14GjqLI34ChbXF3k3oSReFsdP3EQ-tinTtJVxPtDl8Q=s64",
      "userId": "18063518489999743566"
     },
     "user_tz": -330
    },
    "id": "fcMV3rWPPGPP"
   },
   "outputs": [
    {
     "data": {
      "image/png": "[encoded data removed]",
      "text/plain": [
       "<Figure size 864x504 with 1 Axes>"
      ]
     },
     "metadata": {
      "needs_background": "light"
     },
     "output_type": "display_data"
    }
   ],
   "source": [
    "plt.title('No. of rows per year')\n",
    "sns.countplot(x=pd.to_datetime(df.Date).dt.year);"
   ]
  },
  {
   "cell_type": "markdown",
   "metadata": {
    "id": "3lq8RZBLPGPP"
   },
   "source": [
    "As we have chronological data, it's better to make the training, validation and test sets based on the time. So that the model is trained on past data and validated and tested on future data."
   ]
  },
  {
   "cell_type": "code",
   "execution_count": 13,
   "metadata": {
    "executionInfo": {
     "elapsed": 71,
     "status": "aborted",
     "timestamp": 1627377356956,
     "user": {
      "displayName": "Satyam Tiwari",
      "photoUrl": "https://lh3.googleusercontent.com/a-/AOh14GjqLI34ChbXF3k3oSReFsdP3EQ-tinTtJVxPtDl8Q=s64",
      "userId": "18063518489999743566"
     },
     "user_tz": -330
    },
    "id": "uZ_xiTe-PGPQ"
   },
   "outputs": [],
   "source": [
    "year = pd.to_datetime(df.Date).dt.year\n",
    "\n",
    "train_df = df[year<2015]\n",
    "val_df =df[year== 2015]\n",
    "test_df = df[year>2015]"
   ]
  },
  {
   "cell_type": "markdown",
   "metadata": {
    "id": "dh1QS_0RPGPQ"
   },
   "source": [
    "### Input and Target Columns\n",
    "Let's identify the input and target columns from the dataset.\n",
    "\n",
    "Input columns are all the columns in the dataset which do not have unique values. In this case the input columns are all the columns expect `Date` and target columns\n",
    "\n",
    "Target columns/column are the columns which is to be predicted. In this case the target column is `RainTomorrow`"
   ]
  },
  {
   "cell_type": "code",
   "execution_count": 14,
   "metadata": {
    "executionInfo": {
     "elapsed": 72,
     "status": "aborted",
     "timestamp": 1627377356957,
     "user": {
      "displayName": "Satyam Tiwari",
      "photoUrl": "https://lh3.googleusercontent.com/a-/AOh14GjqLI34ChbXF3k3oSReFsdP3EQ-tinTtJVxPtDl8Q=s64",
      "userId": "18063518489999743566"
     },
     "user_tz": -330
    },
    "id": "qjmOACNFPGPQ"
   },
   "outputs": [],
   "source": [
    "input_cols=list(df.columns)[1:-1]\n",
    "# as the date column is on index 0 and the target column RainTomorrow is on index -1 we used [1:-1]\n",
    "target_cols = 'RainTomorrow'"
   ]
  },
  {
   "cell_type": "markdown",
   "metadata": {},
   "source": [
    "As we are going to use 5 different Imputation techniques we'll make 6 different sets of train_inputs, val_inputs, test_inputs for the purpose of visualization.\n",
    "In real world scenario as you'll use any one of the methods so you need to create only one set."
   ]
  },
  {
   "cell_type": "code",
   "execution_count": 15,
   "metadata": {
    "executionInfo": {
     "elapsed": 73,
     "status": "aborted",
     "timestamp": 1627377356959,
     "user": {
      "displayName": "Satyam Tiwari",
      "photoUrl": "https://lh3.googleusercontent.com/a-/AOh14GjqLI34ChbXF3k3oSReFsdP3EQ-tinTtJVxPtDl8Q=s64",
      "userId": "18063518489999743566"
     },
     "user_tz": -330
    },
    "id": "nNS0NyLMPGPR"
   },
   "outputs": [],
   "source": [
    "\n",
    "train_inputs = train_df[input_cols].copy()\n",
    "train_inputs1 = train_df[input_cols].copy()\n",
    "train_inputs2 = train_df[input_cols].copy()\n",
    "train_inputs3 = train_df[input_cols].copy()\n",
    "train_inputs4 = train_df[input_cols].copy()\n",
    "train_targets = train_df[target_cols].copy()\n",
    "\n",
    "val_inputs = val_df[input_cols].copy()\n",
    "val_inputs1 = val_df[input_cols].copy()\n",
    "val_inputs2 = val_df[input_cols].copy()\n",
    "val_inputs3 = val_df[input_cols].copy()\n",
    "val_inputs4 = val_df[input_cols].copy()\n",
    "val_targets = val_df[target_cols].copy()\n",
    "\n",
    "test_inputs = test_df[input_cols].copy()\n",
    "test_inputs1 = test_df[input_cols].copy()\n",
    "test_inputs2 = test_df[input_cols].copy()\n",
    "test_inputs3 = test_df[input_cols].copy()\n",
    "test_inputs4 = test_df[input_cols].copy()\n",
    "test_targets = test_df[target_cols].copy()"
   ]
  },
  {
   "cell_type": "markdown",
   "metadata": {
    "id": "8ryeO4OYPGPR"
   },
   "source": [
    "Let's now identify the numerical and categorical columns "
   ]
  },
  {
   "cell_type": "code",
   "execution_count": 16,
   "metadata": {
    "executionInfo": {
     "elapsed": 75,
     "status": "aborted",
     "timestamp": 1627377356961,
     "user": {
      "displayName": "Satyam Tiwari",
      "photoUrl": "https://lh3.googleusercontent.com/a-/AOh14GjqLI34ChbXF3k3oSReFsdP3EQ-tinTtJVxPtDl8Q=s64",
      "userId": "18063518489999743566"
     },
     "user_tz": -330
    },
    "id": "2atYkywVPGPR"
   },
   "outputs": [],
   "source": [
    "numeric_cols = df.select_dtypes(include=np.number).columns.tolist()\n",
    "categorical_cols = df.select_dtypes('object').columns.tolist()"
   ]
  },
  {
   "cell_type": "code",
   "execution_count": 17,
   "metadata": {
    "executionInfo": {
     "elapsed": 76,
     "status": "aborted",
     "timestamp": 1627377356962,
     "user": {
      "displayName": "Satyam Tiwari",
      "photoUrl": "https://lh3.googleusercontent.com/a-/AOh14GjqLI34ChbXF3k3oSReFsdP3EQ-tinTtJVxPtDl8Q=s64",
      "userId": "18063518489999743566"
     },
     "user_tz": -330
    },
    "id": "mlV6-qN4PGPR"
   },
   "outputs": [
    {
     "name": "stdout",
     "output_type": "stream",
     "text": [
      "['MinTemp', 'MaxTemp', 'Rainfall', 'Evaporation', 'Sunshine', 'WindGustSpeed', 'WindSpeed9am', 'WindSpeed3pm', 'Humidity9am', 'Humidity3pm', 'Pressure9am', 'Pressure3pm', 'Cloud9am', 'Cloud3pm', 'Temp9am', 'Temp3pm']\n"
     ]
    }
   ],
   "source": [
    "print(numeric_cols)"
   ]
  },
  {
   "cell_type": "code",
   "execution_count": 18,
   "metadata": {
    "executionInfo": {
     "elapsed": 75,
     "status": "aborted",
     "timestamp": 1627377356962,
     "user": {
      "displayName": "Satyam Tiwari",
      "photoUrl": "https://lh3.googleusercontent.com/a-/AOh14GjqLI34ChbXF3k3oSReFsdP3EQ-tinTtJVxPtDl8Q=s64",
      "userId": "18063518489999743566"
     },
     "user_tz": -330
    },
    "id": "0D_PvzrePGPS"
   },
   "outputs": [
    {
     "name": "stdout",
     "output_type": "stream",
     "text": [
      "['Date', 'Location', 'WindGustDir', 'WindDir9am', 'WindDir3pm', 'RainToday', 'RainTomorrow']\n"
     ]
    }
   ],
   "source": [
    "print(categorical_cols)"
   ]
  },
  {
   "cell_type": "markdown",
   "metadata": {
    "id": "ShI1Mre3PGPS"
   },
   "source": [
    "# Imputing Missing Values"
   ]
  },
  {
   "cell_type": "markdown",
   "metadata": {
    "id": "l0vvsZV-PGPS"
   },
   "source": [
    "## Univariate Imputation\n",
    "This type of imputation imputes the missing values of a feature(column) using the non-missing values of that feature(column)\n",
    "\n",
    "`SimpleImputer` from `sklearn.impute` is used for univariate imputation of numeric values\n"
   ]
  },
  {
   "cell_type": "markdown",
   "metadata": {},
   "source": [
    "Before beginning with the imputation process let's first look at the number of missing values in the numeric columns of the train_input and have a look at some basis statistics for the numeric columns this will include the mean, median(50% value) "
   ]
  },
  {
   "cell_type": "code",
   "execution_count": 19,
   "metadata": {
    "executionInfo": {
     "elapsed": 75,
     "status": "aborted",
     "timestamp": 1627377356963,
     "user": {
      "displayName": "Satyam Tiwari",
      "photoUrl": "https://lh3.googleusercontent.com/a-/AOh14GjqLI34ChbXF3k3oSReFsdP3EQ-tinTtJVxPtDl8Q=s64",
      "userId": "18063518489999743566"
     },
     "user_tz": -330
    },
    "id": "gKdTJn65PGPS"
   },
   "outputs": [
    {
     "data": {
      "text/plain": [
       "Sunshine         40696\n",
       "Evaporation      37110\n",
       "Cloud3pm         36766\n",
       "Cloud9am         35764\n",
       "Pressure9am       9345\n",
       "Pressure3pm       9309\n",
       "WindGustSpeed     6902\n",
       "Humidity9am       1265\n",
       "Humidity3pm       1186\n",
       "WindSpeed3pm      1140\n",
       "WindSpeed9am      1133\n",
       "Rainfall          1000\n",
       "Temp9am            783\n",
       "Temp3pm            663\n",
       "MinTemp            434\n",
       "MaxTemp            198\n",
       "dtype: int64"
      ]
     },
     "execution_count": 19,
     "metadata": {},
     "output_type": "execute_result"
    }
   ],
   "source": [
    "train_inputs[numeric_cols].isna().sum().sort_values(ascending=False)"
   ]
  },
  {
   "cell_type": "code",
   "execution_count": 20,
   "metadata": {
    "executionInfo": {
     "elapsed": 76,
     "status": "aborted",
     "timestamp": 1627377356964,
     "user": {
      "displayName": "Satyam Tiwari",
      "photoUrl": "https://lh3.googleusercontent.com/a-/AOh14GjqLI34ChbXF3k3oSReFsdP3EQ-tinTtJVxPtDl8Q=s64",
      "userId": "18063518489999743566"
     },
     "user_tz": -330
    },
    "id": "WlyXnzMyPGPS"
   },
   "outputs": [
    {
     "data": {
      "text/html": [
       "<div>\n",
       "<style scoped>\n",
       "    .dataframe tbody tr th:only-of-type {\n",
       "        vertical-align: middle;\n",
       "    }\n",
       "\n",
       "    .dataframe tbody tr th {\n",
       "        vertical-align: top;\n",
       "    }\n",
       "\n",
       "    .dataframe thead th {\n",
       "        text-align: right;\n",
       "    }\n",
       "</style>\n",
       "<table border=\"1\" class=\"dataframe\">\n",
       "  <thead>\n",
       "    <tr style=\"text-align: right;\">\n",
       "      <th></th>\n",
       "      <th>MinTemp</th>\n",
       "      <th>MaxTemp</th>\n",
       "      <th>Rainfall</th>\n",
       "      <th>Evaporation</th>\n",
       "      <th>Sunshine</th>\n",
       "      <th>WindGustSpeed</th>\n",
       "      <th>WindSpeed9am</th>\n",
       "      <th>WindSpeed3pm</th>\n",
       "      <th>Humidity9am</th>\n",
       "      <th>Humidity3pm</th>\n",
       "      <th>Pressure9am</th>\n",
       "      <th>Pressure3pm</th>\n",
       "      <th>Cloud9am</th>\n",
       "      <th>Cloud3pm</th>\n",
       "      <th>Temp9am</th>\n",
       "      <th>Temp3pm</th>\n",
       "    </tr>\n",
       "  </thead>\n",
       "  <tbody>\n",
       "    <tr>\n",
       "      <th>count</th>\n",
       "      <td>98554.000000</td>\n",
       "      <td>98790.00000</td>\n",
       "      <td>97988.000000</td>\n",
       "      <td>61878.00000</td>\n",
       "      <td>58292.000000</td>\n",
       "      <td>92086.000000</td>\n",
       "      <td>97855.000000</td>\n",
       "      <td>97848.000000</td>\n",
       "      <td>97723.000000</td>\n",
       "      <td>97802.000000</td>\n",
       "      <td>89643.000000</td>\n",
       "      <td>89679.000000</td>\n",
       "      <td>63224.000000</td>\n",
       "      <td>62222.000000</td>\n",
       "      <td>98205.000000</td>\n",
       "      <td>98325.000000</td>\n",
       "    </tr>\n",
       "    <tr>\n",
       "      <th>mean</th>\n",
       "      <td>12.002014</td>\n",
       "      <td>23.00288</td>\n",
       "      <td>2.372935</td>\n",
       "      <td>5.28686</td>\n",
       "      <td>7.602136</td>\n",
       "      <td>40.230969</td>\n",
       "      <td>14.102192</td>\n",
       "      <td>18.770430</td>\n",
       "      <td>68.651822</td>\n",
       "      <td>51.501728</td>\n",
       "      <td>1017.518046</td>\n",
       "      <td>1015.138523</td>\n",
       "      <td>4.308048</td>\n",
       "      <td>4.414451</td>\n",
       "      <td>16.827340</td>\n",
       "      <td>21.525622</td>\n",
       "    </tr>\n",
       "    <tr>\n",
       "      <th>std</th>\n",
       "      <td>6.345487</td>\n",
       "      <td>6.99008</td>\n",
       "      <td>8.518819</td>\n",
       "      <td>3.95104</td>\n",
       "      <td>3.788266</td>\n",
       "      <td>13.713042</td>\n",
       "      <td>8.994121</td>\n",
       "      <td>8.877497</td>\n",
       "      <td>18.995535</td>\n",
       "      <td>20.742760</td>\n",
       "      <td>7.073083</td>\n",
       "      <td>6.997504</td>\n",
       "      <td>2.867317</td>\n",
       "      <td>2.694295</td>\n",
       "      <td>6.399855</td>\n",
       "      <td>6.832509</td>\n",
       "    </tr>\n",
       "    <tr>\n",
       "      <th>min</th>\n",
       "      <td>-8.500000</td>\n",
       "      <td>-4.10000</td>\n",
       "      <td>0.000000</td>\n",
       "      <td>0.00000</td>\n",
       "      <td>0.000000</td>\n",
       "      <td>6.000000</td>\n",
       "      <td>0.000000</td>\n",
       "      <td>0.000000</td>\n",
       "      <td>0.000000</td>\n",
       "      <td>0.000000</td>\n",
       "      <td>980.500000</td>\n",
       "      <td>979.000000</td>\n",
       "      <td>0.000000</td>\n",
       "      <td>0.000000</td>\n",
       "      <td>-5.900000</td>\n",
       "      <td>-5.100000</td>\n",
       "    </tr>\n",
       "    <tr>\n",
       "      <th>25%</th>\n",
       "      <td>7.500000</td>\n",
       "      <td>17.80000</td>\n",
       "      <td>0.000000</td>\n",
       "      <td>2.60000</td>\n",
       "      <td>4.800000</td>\n",
       "      <td>31.000000</td>\n",
       "      <td>7.000000</td>\n",
       "      <td>13.000000</td>\n",
       "      <td>57.000000</td>\n",
       "      <td>37.000000</td>\n",
       "      <td>1012.800000</td>\n",
       "      <td>1010.400000</td>\n",
       "      <td>1.000000</td>\n",
       "      <td>2.000000</td>\n",
       "      <td>12.200000</td>\n",
       "      <td>16.600000</td>\n",
       "    </tr>\n",
       "    <tr>\n",
       "      <th>50%</th>\n",
       "      <td>11.800000</td>\n",
       "      <td>22.40000</td>\n",
       "      <td>0.000000</td>\n",
       "      <td>4.60000</td>\n",
       "      <td>8.400000</td>\n",
       "      <td>39.000000</td>\n",
       "      <td>13.000000</td>\n",
       "      <td>19.000000</td>\n",
       "      <td>70.000000</td>\n",
       "      <td>52.000000</td>\n",
       "      <td>1017.500000</td>\n",
       "      <td>1015.100000</td>\n",
       "      <td>5.000000</td>\n",
       "      <td>5.000000</td>\n",
       "      <td>16.500000</td>\n",
       "      <td>20.900000</td>\n",
       "    </tr>\n",
       "    <tr>\n",
       "      <th>75%</th>\n",
       "      <td>16.600000</td>\n",
       "      <td>27.90000</td>\n",
       "      <td>0.800000</td>\n",
       "      <td>7.20000</td>\n",
       "      <td>10.600000</td>\n",
       "      <td>48.000000</td>\n",
       "      <td>19.000000</td>\n",
       "      <td>24.000000</td>\n",
       "      <td>83.000000</td>\n",
       "      <td>66.000000</td>\n",
       "      <td>1022.300000</td>\n",
       "      <td>1019.900000</td>\n",
       "      <td>7.000000</td>\n",
       "      <td>7.000000</td>\n",
       "      <td>21.300000</td>\n",
       "      <td>26.100000</td>\n",
       "    </tr>\n",
       "    <tr>\n",
       "      <th>max</th>\n",
       "      <td>33.900000</td>\n",
       "      <td>48.10000</td>\n",
       "      <td>371.000000</td>\n",
       "      <td>82.40000</td>\n",
       "      <td>14.300000</td>\n",
       "      <td>135.000000</td>\n",
       "      <td>87.000000</td>\n",
       "      <td>87.000000</td>\n",
       "      <td>100.000000</td>\n",
       "      <td>100.000000</td>\n",
       "      <td>1041.000000</td>\n",
       "      <td>1039.600000</td>\n",
       "      <td>9.000000</td>\n",
       "      <td>9.000000</td>\n",
       "      <td>40.200000</td>\n",
       "      <td>46.100000</td>\n",
       "    </tr>\n",
       "  </tbody>\n",
       "</table>\n",
       "</div>"
      ],
      "text/plain": [
       "            MinTemp      MaxTemp      Rainfall  Evaporation      Sunshine  \\\n",
       "count  98554.000000  98790.00000  97988.000000  61878.00000  58292.000000   \n",
       "mean      12.002014     23.00288      2.372935      5.28686      7.602136   \n",
       "std        6.345487      6.99008      8.518819      3.95104      3.788266   \n",
       "min       -8.500000     -4.10000      0.000000      0.00000      0.000000   \n",
       "25%        7.500000     17.80000      0.000000      2.60000      4.800000   \n",
       "50%       11.800000     22.40000      0.000000      4.60000      8.400000   \n",
       "75%       16.600000     27.90000      0.800000      7.20000     10.600000   \n",
       "max       33.900000     48.10000    371.000000     82.40000     14.300000   \n",
       "\n",
       "       WindGustSpeed  WindSpeed9am  WindSpeed3pm   Humidity9am   Humidity3pm  \\\n",
       "count   92086.000000  97855.000000  97848.000000  97723.000000  97802.000000   \n",
       "mean       40.230969     14.102192     18.770430     68.651822     51.501728   \n",
       "std        13.713042      8.994121      8.877497     18.995535     20.742760   \n",
       "min         6.000000      0.000000      0.000000      0.000000      0.000000   \n",
       "25%        31.000000      7.000000     13.000000     57.000000     37.000000   \n",
       "50%        39.000000     13.000000     19.000000     70.000000     52.000000   \n",
       "75%        48.000000     19.000000     24.000000     83.000000     66.000000   \n",
       "max       135.000000     87.000000     87.000000    100.000000    100.000000   \n",
       "\n",
       "        Pressure9am   Pressure3pm      Cloud9am      Cloud3pm       Temp9am  \\\n",
       "count  89643.000000  89679.000000  63224.000000  62222.000000  98205.000000   \n",
       "mean    1017.518046   1015.138523      4.308048      4.414451     16.827340   \n",
       "std        7.073083      6.997504      2.867317      2.694295      6.399855   \n",
       "min      980.500000    979.000000      0.000000      0.000000     -5.900000   \n",
       "25%     1012.800000   1010.400000      1.000000      2.000000     12.200000   \n",
       "50%     1017.500000   1015.100000      5.000000      5.000000     16.500000   \n",
       "75%     1022.300000   1019.900000      7.000000      7.000000     21.300000   \n",
       "max     1041.000000   1039.600000      9.000000      9.000000     40.200000   \n",
       "\n",
       "            Temp3pm  \n",
       "count  98325.000000  \n",
       "mean      21.525622  \n",
       "std        6.832509  \n",
       "min       -5.100000  \n",
       "25%       16.600000  \n",
       "50%       20.900000  \n",
       "75%       26.100000  \n",
       "max       46.100000  "
      ]
     },
     "execution_count": 20,
     "metadata": {},
     "output_type": "execute_result"
    }
   ],
   "source": [
    "\n",
    "train_inputs[numeric_cols].describe()"
   ]
  },
  {
   "cell_type": "markdown",
   "metadata": {
    "id": "TtUShYZJPGPS"
   },
   "source": [
    "There is a Parameter `strategy` in the Simple Imputer function which can have the following values\n",
    "* \"mean\"- Fills the missing values with the mean of non missing values\n",
    "* \"median\" - Fills the missing values with the median of non missing values\n",
    "* \"most_frequent\" - Fills the missing values with the value that occurs most frequently or we can say the mode of the numeric data\n",
    "* \"constant\" - Fills the missing with the value provided in `fill_value` parameter of SimpleImputer.\n",
    "\n",
    "By default the strategy is set to mean."
   ]
  },
  {
   "cell_type": "markdown",
   "metadata": {
    "id": "PxAU4DNUPGPT"
   },
   "source": [
    "### SimpleImputer (strategy ='mean')"
   ]
  },
  {
   "cell_type": "markdown",
   "metadata": {},
   "source": [
    "Lets import `SimpleImputer` from `sklearn.impute`"
   ]
  },
  {
   "cell_type": "code",
   "execution_count": 21,
   "metadata": {
    "executionInfo": {
     "elapsed": 76,
     "status": "aborted",
     "timestamp": 1627377356965,
     "user": {
      "displayName": "Satyam Tiwari",
      "photoUrl": "https://lh3.googleusercontent.com/a-/AOh14GjqLI34ChbXF3k3oSReFsdP3EQ-tinTtJVxPtDl8Q=s64",
      "userId": "18063518489999743566"
     },
     "user_tz": -330
    },
    "id": "ZwM2I0sNPGPT"
   },
   "outputs": [],
   "source": [
    "from sklearn.impute import SimpleImputer"
   ]
  },
  {
   "cell_type": "code",
   "execution_count": 22,
   "metadata": {
    "executionInfo": {
     "elapsed": 77,
     "status": "aborted",
     "timestamp": 1627377356966,
     "user": {
      "displayName": "Satyam Tiwari",
      "photoUrl": "https://lh3.googleusercontent.com/a-/AOh14GjqLI34ChbXF3k3oSReFsdP3EQ-tinTtJVxPtDl8Q=s64",
      "userId": "18063518489999743566"
     },
     "user_tz": -330
    },
    "id": "-vlXX1WOPGPT"
   },
   "outputs": [],
   "source": [
    "# Model Creation\n",
    "imputer = SimpleImputer(strategy ='mean')\n",
    "# fitting the imputer on the original dataset\n",
    "imputer.fit(df[numeric_cols])\n",
    "# Imputing the missing values in train, validation and test inputs\n",
    "train_inputs[numeric_cols]=imputer.transform(train_inputs[numeric_cols])\n",
    "val_inputs[numeric_cols]=imputer.transform(val_inputs[numeric_cols])\n",
    "test_inputs[numeric_cols]=imputer.transform(test_inputs[numeric_cols])"
   ]
  },
  {
   "cell_type": "markdown",
   "metadata": {},
   "source": [
    "Now let's see the number of missing values in the train_inputs after imputation"
   ]
  },
  {
   "cell_type": "code",
   "execution_count": 23,
   "metadata": {
    "executionInfo": {
     "elapsed": 81,
     "status": "aborted",
     "timestamp": 1627377356972,
     "user": {
      "displayName": "Satyam Tiwari",
      "photoUrl": "https://lh3.googleusercontent.com/a-/AOh14GjqLI34ChbXF3k3oSReFsdP3EQ-tinTtJVxPtDl8Q=s64",
      "userId": "18063518489999743566"
     },
     "user_tz": -330
    },
    "id": "S7WYGr66PGPU"
   },
   "outputs": [
    {
     "data": {
      "text/plain": [
       "MinTemp          0\n",
       "MaxTemp          0\n",
       "Rainfall         0\n",
       "Evaporation      0\n",
       "Sunshine         0\n",
       "WindGustSpeed    0\n",
       "WindSpeed9am     0\n",
       "WindSpeed3pm     0\n",
       "Humidity9am      0\n",
       "Humidity3pm      0\n",
       "Pressure9am      0\n",
       "Pressure3pm      0\n",
       "Cloud9am         0\n",
       "Cloud3pm         0\n",
       "Temp9am          0\n",
       "Temp3pm          0\n",
       "dtype: int64"
      ]
     },
     "execution_count": 23,
     "metadata": {},
     "output_type": "execute_result"
    }
   ],
   "source": [
    "train_inputs[numeric_cols].isna().sum()"
   ]
  },
  {
   "cell_type": "code",
   "execution_count": 24,
   "metadata": {
    "executionInfo": {
     "elapsed": 83,
     "status": "aborted",
     "timestamp": 1627377356974,
     "user": {
      "displayName": "Satyam Tiwari",
      "photoUrl": "https://lh3.googleusercontent.com/a-/AOh14GjqLI34ChbXF3k3oSReFsdP3EQ-tinTtJVxPtDl8Q=s64",
      "userId": "18063518489999743566"
     },
     "user_tz": -330
    },
    "id": "vfiIFDiGPGPU"
   },
   "outputs": [
    {
     "data": {
      "text/html": [
       "<div>\n",
       "<style scoped>\n",
       "    .dataframe tbody tr th:only-of-type {\n",
       "        vertical-align: middle;\n",
       "    }\n",
       "\n",
       "    .dataframe tbody tr th {\n",
       "        vertical-align: top;\n",
       "    }\n",
       "\n",
       "    .dataframe thead th {\n",
       "        text-align: right;\n",
       "    }\n",
       "</style>\n",
       "<table border=\"1\" class=\"dataframe\">\n",
       "  <thead>\n",
       "    <tr style=\"text-align: right;\">\n",
       "      <th></th>\n",
       "      <th>MinTemp</th>\n",
       "      <th>MaxTemp</th>\n",
       "      <th>Rainfall</th>\n",
       "      <th>Evaporation</th>\n",
       "      <th>Sunshine</th>\n",
       "      <th>WindGustSpeed</th>\n",
       "      <th>WindSpeed9am</th>\n",
       "      <th>WindSpeed3pm</th>\n",
       "      <th>Humidity9am</th>\n",
       "      <th>Humidity3pm</th>\n",
       "      <th>Pressure9am</th>\n",
       "      <th>Pressure3pm</th>\n",
       "      <th>Cloud9am</th>\n",
       "      <th>Cloud3pm</th>\n",
       "      <th>Temp9am</th>\n",
       "      <th>Temp3pm</th>\n",
       "    </tr>\n",
       "  </thead>\n",
       "  <tbody>\n",
       "    <tr>\n",
       "      <th>0</th>\n",
       "      <td>13.4</td>\n",
       "      <td>22.9</td>\n",
       "      <td>0.6</td>\n",
       "      <td>5.469824</td>\n",
       "      <td>7.624853</td>\n",
       "      <td>44.0</td>\n",
       "      <td>20.0</td>\n",
       "      <td>24.0</td>\n",
       "      <td>71.0</td>\n",
       "      <td>22.0</td>\n",
       "      <td>1007.7</td>\n",
       "      <td>1007.1</td>\n",
       "      <td>8.000000</td>\n",
       "      <td>4.503167</td>\n",
       "      <td>16.9</td>\n",
       "      <td>21.8</td>\n",
       "    </tr>\n",
       "    <tr>\n",
       "      <th>1</th>\n",
       "      <td>7.4</td>\n",
       "      <td>25.1</td>\n",
       "      <td>0.0</td>\n",
       "      <td>5.469824</td>\n",
       "      <td>7.624853</td>\n",
       "      <td>44.0</td>\n",
       "      <td>4.0</td>\n",
       "      <td>22.0</td>\n",
       "      <td>44.0</td>\n",
       "      <td>25.0</td>\n",
       "      <td>1010.6</td>\n",
       "      <td>1007.8</td>\n",
       "      <td>4.437189</td>\n",
       "      <td>4.503167</td>\n",
       "      <td>17.2</td>\n",
       "      <td>24.3</td>\n",
       "    </tr>\n",
       "    <tr>\n",
       "      <th>2</th>\n",
       "      <td>12.9</td>\n",
       "      <td>25.7</td>\n",
       "      <td>0.0</td>\n",
       "      <td>5.469824</td>\n",
       "      <td>7.624853</td>\n",
       "      <td>46.0</td>\n",
       "      <td>19.0</td>\n",
       "      <td>26.0</td>\n",
       "      <td>38.0</td>\n",
       "      <td>30.0</td>\n",
       "      <td>1007.6</td>\n",
       "      <td>1008.7</td>\n",
       "      <td>4.437189</td>\n",
       "      <td>2.000000</td>\n",
       "      <td>21.0</td>\n",
       "      <td>23.2</td>\n",
       "    </tr>\n",
       "    <tr>\n",
       "      <th>3</th>\n",
       "      <td>9.2</td>\n",
       "      <td>28.0</td>\n",
       "      <td>0.0</td>\n",
       "      <td>5.469824</td>\n",
       "      <td>7.624853</td>\n",
       "      <td>24.0</td>\n",
       "      <td>11.0</td>\n",
       "      <td>9.0</td>\n",
       "      <td>45.0</td>\n",
       "      <td>16.0</td>\n",
       "      <td>1017.6</td>\n",
       "      <td>1012.8</td>\n",
       "      <td>4.437189</td>\n",
       "      <td>4.503167</td>\n",
       "      <td>18.1</td>\n",
       "      <td>26.5</td>\n",
       "    </tr>\n",
       "    <tr>\n",
       "      <th>4</th>\n",
       "      <td>17.5</td>\n",
       "      <td>32.3</td>\n",
       "      <td>1.0</td>\n",
       "      <td>5.469824</td>\n",
       "      <td>7.624853</td>\n",
       "      <td>41.0</td>\n",
       "      <td>7.0</td>\n",
       "      <td>20.0</td>\n",
       "      <td>82.0</td>\n",
       "      <td>33.0</td>\n",
       "      <td>1010.8</td>\n",
       "      <td>1006.0</td>\n",
       "      <td>7.000000</td>\n",
       "      <td>8.000000</td>\n",
       "      <td>17.8</td>\n",
       "      <td>29.7</td>\n",
       "    </tr>\n",
       "    <tr>\n",
       "      <th>...</th>\n",
       "      <td>...</td>\n",
       "      <td>...</td>\n",
       "      <td>...</td>\n",
       "      <td>...</td>\n",
       "      <td>...</td>\n",
       "      <td>...</td>\n",
       "      <td>...</td>\n",
       "      <td>...</td>\n",
       "      <td>...</td>\n",
       "      <td>...</td>\n",
       "      <td>...</td>\n",
       "      <td>...</td>\n",
       "      <td>...</td>\n",
       "      <td>...</td>\n",
       "      <td>...</td>\n",
       "      <td>...</td>\n",
       "    </tr>\n",
       "    <tr>\n",
       "      <th>144548</th>\n",
       "      <td>16.9</td>\n",
       "      <td>33.2</td>\n",
       "      <td>0.0</td>\n",
       "      <td>5.469824</td>\n",
       "      <td>7.624853</td>\n",
       "      <td>43.0</td>\n",
       "      <td>24.0</td>\n",
       "      <td>26.0</td>\n",
       "      <td>22.0</td>\n",
       "      <td>13.0</td>\n",
       "      <td>1014.1</td>\n",
       "      <td>1009.8</td>\n",
       "      <td>4.437189</td>\n",
       "      <td>4.503167</td>\n",
       "      <td>23.7</td>\n",
       "      <td>31.8</td>\n",
       "    </tr>\n",
       "    <tr>\n",
       "      <th>144549</th>\n",
       "      <td>15.1</td>\n",
       "      <td>36.8</td>\n",
       "      <td>0.0</td>\n",
       "      <td>5.469824</td>\n",
       "      <td>7.624853</td>\n",
       "      <td>31.0</td>\n",
       "      <td>19.0</td>\n",
       "      <td>20.0</td>\n",
       "      <td>16.0</td>\n",
       "      <td>8.0</td>\n",
       "      <td>1012.6</td>\n",
       "      <td>1007.6</td>\n",
       "      <td>4.437189</td>\n",
       "      <td>4.503167</td>\n",
       "      <td>28.9</td>\n",
       "      <td>34.8</td>\n",
       "    </tr>\n",
       "    <tr>\n",
       "      <th>144550</th>\n",
       "      <td>17.3</td>\n",
       "      <td>37.8</td>\n",
       "      <td>0.0</td>\n",
       "      <td>5.469824</td>\n",
       "      <td>7.624853</td>\n",
       "      <td>39.0</td>\n",
       "      <td>26.0</td>\n",
       "      <td>9.0</td>\n",
       "      <td>15.0</td>\n",
       "      <td>8.0</td>\n",
       "      <td>1011.9</td>\n",
       "      <td>1008.0</td>\n",
       "      <td>4.437189</td>\n",
       "      <td>4.503167</td>\n",
       "      <td>29.7</td>\n",
       "      <td>35.7</td>\n",
       "    </tr>\n",
       "    <tr>\n",
       "      <th>144551</th>\n",
       "      <td>20.1</td>\n",
       "      <td>38.5</td>\n",
       "      <td>0.0</td>\n",
       "      <td>5.469824</td>\n",
       "      <td>7.624853</td>\n",
       "      <td>43.0</td>\n",
       "      <td>28.0</td>\n",
       "      <td>17.0</td>\n",
       "      <td>22.0</td>\n",
       "      <td>9.0</td>\n",
       "      <td>1014.0</td>\n",
       "      <td>1009.2</td>\n",
       "      <td>4.437189</td>\n",
       "      <td>4.503167</td>\n",
       "      <td>29.8</td>\n",
       "      <td>37.2</td>\n",
       "    </tr>\n",
       "    <tr>\n",
       "      <th>144552</th>\n",
       "      <td>22.5</td>\n",
       "      <td>39.6</td>\n",
       "      <td>0.0</td>\n",
       "      <td>5.469824</td>\n",
       "      <td>7.624853</td>\n",
       "      <td>76.0</td>\n",
       "      <td>30.0</td>\n",
       "      <td>13.0</td>\n",
       "      <td>16.0</td>\n",
       "      <td>9.0</td>\n",
       "      <td>1012.1</td>\n",
       "      <td>1006.2</td>\n",
       "      <td>4.437189</td>\n",
       "      <td>4.503167</td>\n",
       "      <td>30.1</td>\n",
       "      <td>37.4</td>\n",
       "    </tr>\n",
       "  </tbody>\n",
       "</table>\n",
       "<p>98988 rows × 16 columns</p>\n",
       "</div>"
      ],
      "text/plain": [
       "        MinTemp  MaxTemp  Rainfall  Evaporation  Sunshine  WindGustSpeed  \\\n",
       "0          13.4     22.9       0.6     5.469824  7.624853           44.0   \n",
       "1           7.4     25.1       0.0     5.469824  7.624853           44.0   \n",
       "2          12.9     25.7       0.0     5.469824  7.624853           46.0   \n",
       "3           9.2     28.0       0.0     5.469824  7.624853           24.0   \n",
       "4          17.5     32.3       1.0     5.469824  7.624853           41.0   \n",
       "...         ...      ...       ...          ...       ...            ...   \n",
       "144548     16.9     33.2       0.0     5.469824  7.624853           43.0   \n",
       "144549     15.1     36.8       0.0     5.469824  7.624853           31.0   \n",
       "144550     17.3     37.8       0.0     5.469824  7.624853           39.0   \n",
       "144551     20.1     38.5       0.0     5.469824  7.624853           43.0   \n",
       "144552     22.5     39.6       0.0     5.469824  7.624853           76.0   \n",
       "\n",
       "        WindSpeed9am  WindSpeed3pm  Humidity9am  Humidity3pm  Pressure9am  \\\n",
       "0               20.0          24.0         71.0         22.0       1007.7   \n",
       "1                4.0          22.0         44.0         25.0       1010.6   \n",
       "2               19.0          26.0         38.0         30.0       1007.6   \n",
       "3               11.0           9.0         45.0         16.0       1017.6   \n",
       "4                7.0          20.0         82.0         33.0       1010.8   \n",
       "...              ...           ...          ...          ...          ...   \n",
       "144548          24.0          26.0         22.0         13.0       1014.1   \n",
       "144549          19.0          20.0         16.0          8.0       1012.6   \n",
       "144550          26.0           9.0         15.0          8.0       1011.9   \n",
       "144551          28.0          17.0         22.0          9.0       1014.0   \n",
       "144552          30.0          13.0         16.0          9.0       1012.1   \n",
       "\n",
       "        Pressure3pm  Cloud9am  Cloud3pm  Temp9am  Temp3pm  \n",
       "0            1007.1  8.000000  4.503167     16.9     21.8  \n",
       "1            1007.8  4.437189  4.503167     17.2     24.3  \n",
       "2            1008.7  4.437189  2.000000     21.0     23.2  \n",
       "3            1012.8  4.437189  4.503167     18.1     26.5  \n",
       "4            1006.0  7.000000  8.000000     17.8     29.7  \n",
       "...             ...       ...       ...      ...      ...  \n",
       "144548       1009.8  4.437189  4.503167     23.7     31.8  \n",
       "144549       1007.6  4.437189  4.503167     28.9     34.8  \n",
       "144550       1008.0  4.437189  4.503167     29.7     35.7  \n",
       "144551       1009.2  4.437189  4.503167     29.8     37.2  \n",
       "144552       1006.2  4.437189  4.503167     30.1     37.4  \n",
       "\n",
       "[98988 rows x 16 columns]"
      ]
     },
     "execution_count": 24,
     "metadata": {},
     "output_type": "execute_result"
    }
   ],
   "source": [
    "train_inputs[numeric_cols]"
   ]
  },
  {
   "cell_type": "markdown",
   "metadata": {
    "id": "d_PxF4y8PGPU"
   },
   "source": [
    "It can be seen in the sunshine column the missing values are now imputed with 7.624853 which is the mean for the sunshine column."
   ]
  },
  {
   "cell_type": "markdown",
   "metadata": {
    "id": "R3_JwxqbPGPU"
   },
   "source": [
    "We have filled the missing values with the mean of non missing values of each column."
   ]
  },
  {
   "cell_type": "markdown",
   "metadata": {
    "id": "qlBGKG_xPGPU"
   },
   "source": [
    "### SimpleImputer (strategy ='median')"
   ]
  },
  {
   "cell_type": "code",
   "execution_count": 25,
   "metadata": {
    "executionInfo": {
     "elapsed": 85,
     "status": "aborted",
     "timestamp": 1627377356977,
     "user": {
      "displayName": "Satyam Tiwari",
      "photoUrl": "https://lh3.googleusercontent.com/a-/AOh14GjqLI34ChbXF3k3oSReFsdP3EQ-tinTtJVxPtDl8Q=s64",
      "userId": "18063518489999743566"
     },
     "user_tz": -330
    },
    "id": "BuygPL3FPGPU"
   },
   "outputs": [
    {
     "data": {
      "text/plain": [
       "Sunshine         40696\n",
       "Evaporation      37110\n",
       "Cloud3pm         36766\n",
       "Cloud9am         35764\n",
       "Pressure9am       9345\n",
       "Pressure3pm       9309\n",
       "WindGustSpeed     6902\n",
       "Humidity9am       1265\n",
       "Humidity3pm       1186\n",
       "WindSpeed3pm      1140\n",
       "WindSpeed9am      1133\n",
       "Rainfall          1000\n",
       "Temp9am            783\n",
       "Temp3pm            663\n",
       "MinTemp            434\n",
       "MaxTemp            198\n",
       "dtype: int64"
      ]
     },
     "execution_count": 25,
     "metadata": {},
     "output_type": "execute_result"
    }
   ],
   "source": [
    "# let's first look at the number of missing values in the numeric columns of the train_input\n",
    "train_inputs1[numeric_cols].isna().sum().sort_values(ascending=False)"
   ]
  },
  {
   "cell_type": "code",
   "execution_count": 26,
   "metadata": {
    "executionInfo": {
     "elapsed": 87,
     "status": "aborted",
     "timestamp": 1627377356979,
     "user": {
      "displayName": "Satyam Tiwari",
      "photoUrl": "https://lh3.googleusercontent.com/a-/AOh14GjqLI34ChbXF3k3oSReFsdP3EQ-tinTtJVxPtDl8Q=s64",
      "userId": "18063518489999743566"
     },
     "user_tz": -330
    },
    "id": "svQM5ZTbPGPV"
   },
   "outputs": [
    {
     "data": {
      "text/html": [
       "<div>\n",
       "<style scoped>\n",
       "    .dataframe tbody tr th:only-of-type {\n",
       "        vertical-align: middle;\n",
       "    }\n",
       "\n",
       "    .dataframe tbody tr th {\n",
       "        vertical-align: top;\n",
       "    }\n",
       "\n",
       "    .dataframe thead th {\n",
       "        text-align: right;\n",
       "    }\n",
       "</style>\n",
       "<table border=\"1\" class=\"dataframe\">\n",
       "  <thead>\n",
       "    <tr style=\"text-align: right;\">\n",
       "      <th></th>\n",
       "      <th>MinTemp</th>\n",
       "      <th>MaxTemp</th>\n",
       "      <th>Rainfall</th>\n",
       "      <th>Evaporation</th>\n",
       "      <th>Sunshine</th>\n",
       "      <th>WindGustSpeed</th>\n",
       "      <th>WindSpeed9am</th>\n",
       "      <th>WindSpeed3pm</th>\n",
       "      <th>Humidity9am</th>\n",
       "      <th>Humidity3pm</th>\n",
       "      <th>Pressure9am</th>\n",
       "      <th>Pressure3pm</th>\n",
       "      <th>Cloud9am</th>\n",
       "      <th>Cloud3pm</th>\n",
       "      <th>Temp9am</th>\n",
       "      <th>Temp3pm</th>\n",
       "    </tr>\n",
       "  </thead>\n",
       "  <tbody>\n",
       "    <tr>\n",
       "      <th>count</th>\n",
       "      <td>98554.000000</td>\n",
       "      <td>98790.00000</td>\n",
       "      <td>97988.000000</td>\n",
       "      <td>61878.00000</td>\n",
       "      <td>58292.000000</td>\n",
       "      <td>92086.000000</td>\n",
       "      <td>97855.000000</td>\n",
       "      <td>97848.000000</td>\n",
       "      <td>97723.000000</td>\n",
       "      <td>97802.000000</td>\n",
       "      <td>89643.000000</td>\n",
       "      <td>89679.000000</td>\n",
       "      <td>63224.000000</td>\n",
       "      <td>62222.000000</td>\n",
       "      <td>98205.000000</td>\n",
       "      <td>98325.000000</td>\n",
       "    </tr>\n",
       "    <tr>\n",
       "      <th>mean</th>\n",
       "      <td>12.002014</td>\n",
       "      <td>23.00288</td>\n",
       "      <td>2.372935</td>\n",
       "      <td>5.28686</td>\n",
       "      <td>7.602136</td>\n",
       "      <td>40.230969</td>\n",
       "      <td>14.102192</td>\n",
       "      <td>18.770430</td>\n",
       "      <td>68.651822</td>\n",
       "      <td>51.501728</td>\n",
       "      <td>1017.518046</td>\n",
       "      <td>1015.138523</td>\n",
       "      <td>4.308048</td>\n",
       "      <td>4.414451</td>\n",
       "      <td>16.827340</td>\n",
       "      <td>21.525622</td>\n",
       "    </tr>\n",
       "    <tr>\n",
       "      <th>std</th>\n",
       "      <td>6.345487</td>\n",
       "      <td>6.99008</td>\n",
       "      <td>8.518819</td>\n",
       "      <td>3.95104</td>\n",
       "      <td>3.788266</td>\n",
       "      <td>13.713042</td>\n",
       "      <td>8.994121</td>\n",
       "      <td>8.877497</td>\n",
       "      <td>18.995535</td>\n",
       "      <td>20.742760</td>\n",
       "      <td>7.073083</td>\n",
       "      <td>6.997504</td>\n",
       "      <td>2.867317</td>\n",
       "      <td>2.694295</td>\n",
       "      <td>6.399855</td>\n",
       "      <td>6.832509</td>\n",
       "    </tr>\n",
       "    <tr>\n",
       "      <th>min</th>\n",
       "      <td>-8.500000</td>\n",
       "      <td>-4.10000</td>\n",
       "      <td>0.000000</td>\n",
       "      <td>0.00000</td>\n",
       "      <td>0.000000</td>\n",
       "      <td>6.000000</td>\n",
       "      <td>0.000000</td>\n",
       "      <td>0.000000</td>\n",
       "      <td>0.000000</td>\n",
       "      <td>0.000000</td>\n",
       "      <td>980.500000</td>\n",
       "      <td>979.000000</td>\n",
       "      <td>0.000000</td>\n",
       "      <td>0.000000</td>\n",
       "      <td>-5.900000</td>\n",
       "      <td>-5.100000</td>\n",
       "    </tr>\n",
       "    <tr>\n",
       "      <th>25%</th>\n",
       "      <td>7.500000</td>\n",
       "      <td>17.80000</td>\n",
       "      <td>0.000000</td>\n",
       "      <td>2.60000</td>\n",
       "      <td>4.800000</td>\n",
       "      <td>31.000000</td>\n",
       "      <td>7.000000</td>\n",
       "      <td>13.000000</td>\n",
       "      <td>57.000000</td>\n",
       "      <td>37.000000</td>\n",
       "      <td>1012.800000</td>\n",
       "      <td>1010.400000</td>\n",
       "      <td>1.000000</td>\n",
       "      <td>2.000000</td>\n",
       "      <td>12.200000</td>\n",
       "      <td>16.600000</td>\n",
       "    </tr>\n",
       "    <tr>\n",
       "      <th>50%</th>\n",
       "      <td>11.800000</td>\n",
       "      <td>22.40000</td>\n",
       "      <td>0.000000</td>\n",
       "      <td>4.60000</td>\n",
       "      <td>8.400000</td>\n",
       "      <td>39.000000</td>\n",
       "      <td>13.000000</td>\n",
       "      <td>19.000000</td>\n",
       "      <td>70.000000</td>\n",
       "      <td>52.000000</td>\n",
       "      <td>1017.500000</td>\n",
       "      <td>1015.100000</td>\n",
       "      <td>5.000000</td>\n",
       "      <td>5.000000</td>\n",
       "      <td>16.500000</td>\n",
       "      <td>20.900000</td>\n",
       "    </tr>\n",
       "    <tr>\n",
       "      <th>75%</th>\n",
       "      <td>16.600000</td>\n",
       "      <td>27.90000</td>\n",
       "      <td>0.800000</td>\n",
       "      <td>7.20000</td>\n",
       "      <td>10.600000</td>\n",
       "      <td>48.000000</td>\n",
       "      <td>19.000000</td>\n",
       "      <td>24.000000</td>\n",
       "      <td>83.000000</td>\n",
       "      <td>66.000000</td>\n",
       "      <td>1022.300000</td>\n",
       "      <td>1019.900000</td>\n",
       "      <td>7.000000</td>\n",
       "      <td>7.000000</td>\n",
       "      <td>21.300000</td>\n",
       "      <td>26.100000</td>\n",
       "    </tr>\n",
       "    <tr>\n",
       "      <th>max</th>\n",
       "      <td>33.900000</td>\n",
       "      <td>48.10000</td>\n",
       "      <td>371.000000</td>\n",
       "      <td>82.40000</td>\n",
       "      <td>14.300000</td>\n",
       "      <td>135.000000</td>\n",
       "      <td>87.000000</td>\n",
       "      <td>87.000000</td>\n",
       "      <td>100.000000</td>\n",
       "      <td>100.000000</td>\n",
       "      <td>1041.000000</td>\n",
       "      <td>1039.600000</td>\n",
       "      <td>9.000000</td>\n",
       "      <td>9.000000</td>\n",
       "      <td>40.200000</td>\n",
       "      <td>46.100000</td>\n",
       "    </tr>\n",
       "  </tbody>\n",
       "</table>\n",
       "</div>"
      ],
      "text/plain": [
       "            MinTemp      MaxTemp      Rainfall  Evaporation      Sunshine  \\\n",
       "count  98554.000000  98790.00000  97988.000000  61878.00000  58292.000000   \n",
       "mean      12.002014     23.00288      2.372935      5.28686      7.602136   \n",
       "std        6.345487      6.99008      8.518819      3.95104      3.788266   \n",
       "min       -8.500000     -4.10000      0.000000      0.00000      0.000000   \n",
       "25%        7.500000     17.80000      0.000000      2.60000      4.800000   \n",
       "50%       11.800000     22.40000      0.000000      4.60000      8.400000   \n",
       "75%       16.600000     27.90000      0.800000      7.20000     10.600000   \n",
       "max       33.900000     48.10000    371.000000     82.40000     14.300000   \n",
       "\n",
       "       WindGustSpeed  WindSpeed9am  WindSpeed3pm   Humidity9am   Humidity3pm  \\\n",
       "count   92086.000000  97855.000000  97848.000000  97723.000000  97802.000000   \n",
       "mean       40.230969     14.102192     18.770430     68.651822     51.501728   \n",
       "std        13.713042      8.994121      8.877497     18.995535     20.742760   \n",
       "min         6.000000      0.000000      0.000000      0.000000      0.000000   \n",
       "25%        31.000000      7.000000     13.000000     57.000000     37.000000   \n",
       "50%        39.000000     13.000000     19.000000     70.000000     52.000000   \n",
       "75%        48.000000     19.000000     24.000000     83.000000     66.000000   \n",
       "max       135.000000     87.000000     87.000000    100.000000    100.000000   \n",
       "\n",
       "        Pressure9am   Pressure3pm      Cloud9am      Cloud3pm       Temp9am  \\\n",
       "count  89643.000000  89679.000000  63224.000000  62222.000000  98205.000000   \n",
       "mean    1017.518046   1015.138523      4.308048      4.414451     16.827340   \n",
       "std        7.073083      6.997504      2.867317      2.694295      6.399855   \n",
       "min      980.500000    979.000000      0.000000      0.000000     -5.900000   \n",
       "25%     1012.800000   1010.400000      1.000000      2.000000     12.200000   \n",
       "50%     1017.500000   1015.100000      5.000000      5.000000     16.500000   \n",
       "75%     1022.300000   1019.900000      7.000000      7.000000     21.300000   \n",
       "max     1041.000000   1039.600000      9.000000      9.000000     40.200000   \n",
       "\n",
       "            Temp3pm  \n",
       "count  98325.000000  \n",
       "mean      21.525622  \n",
       "std        6.832509  \n",
       "min       -5.100000  \n",
       "25%       16.600000  \n",
       "50%       20.900000  \n",
       "75%       26.100000  \n",
       "max       46.100000  "
      ]
     },
     "execution_count": 26,
     "metadata": {},
     "output_type": "execute_result"
    }
   ],
   "source": [
    "# Let's have a look at some basis statistics for the numeric columns this will include the mean, median(50% value) \n",
    "train_inputs1[numeric_cols].describe()"
   ]
  },
  {
   "cell_type": "markdown",
   "metadata": {
    "executionInfo": {
     "elapsed": 88,
     "status": "aborted",
     "timestamp": 1627377356981,
     "user": {
      "displayName": "Satyam Tiwari",
      "photoUrl": "https://lh3.googleusercontent.com/a-/AOh14GjqLI34ChbXF3k3oSReFsdP3EQ-tinTtJVxPtDl8Q=s64",
      "userId": "18063518489999743566"
     },
     "user_tz": -330
    },
    "id": "aCgzyjIYPGPV"
   },
   "source": [
    "lets import SimpleImputer from sklearn.impute\n"
   ]
  },
  {
   "cell_type": "code",
   "execution_count": 27,
   "metadata": {
    "executionInfo": {
     "elapsed": 89,
     "status": "aborted",
     "timestamp": 1627377356982,
     "user": {
      "displayName": "Satyam Tiwari",
      "photoUrl": "https://lh3.googleusercontent.com/a-/AOh14GjqLI34ChbXF3k3oSReFsdP3EQ-tinTtJVxPtDl8Q=s64",
      "userId": "18063518489999743566"
     },
     "user_tz": -330
    },
    "id": "78wj6xh-PGPV"
   },
   "outputs": [],
   "source": [
    "from sklearn.impute import SimpleImputer"
   ]
  },
  {
   "cell_type": "code",
   "execution_count": 28,
   "metadata": {
    "executionInfo": {
     "elapsed": 89,
     "status": "aborted",
     "timestamp": 1627377356983,
     "user": {
      "displayName": "Satyam Tiwari",
      "photoUrl": "https://lh3.googleusercontent.com/a-/AOh14GjqLI34ChbXF3k3oSReFsdP3EQ-tinTtJVxPtDl8Q=s64",
      "userId": "18063518489999743566"
     },
     "user_tz": -330
    },
    "id": "csCnytskPGPV"
   },
   "outputs": [],
   "source": [
    "# Model Creation\n",
    "imputer = SimpleImputer(strategy ='median')\n",
    "# fitting the imputer on the original dataset\n",
    "imputer.fit(df[numeric_cols])\n",
    "# Imputing the missing values in train, validation and test inputs\n",
    "train_inputs1[numeric_cols]=imputer.transform(train_inputs1[numeric_cols])\n",
    "val_inputs1[numeric_cols]=imputer.transform(val_inputs1[numeric_cols])\n",
    "test_inputs1[numeric_cols]=imputer.transform(test_inputs1[numeric_cols])"
   ]
  },
  {
   "cell_type": "markdown",
   "metadata": {
    "executionInfo": {
     "elapsed": 90,
     "status": "aborted",
     "timestamp": 1627377356984,
     "user": {
      "displayName": "Satyam Tiwari",
      "photoUrl": "https://lh3.googleusercontent.com/a-/AOh14GjqLI34ChbXF3k3oSReFsdP3EQ-tinTtJVxPtDl8Q=s64",
      "userId": "18063518489999743566"
     },
     "user_tz": -330
    },
    "id": "_B0XreZRPGPW"
   },
   "source": [
    "Now let's see the number of missing values in the train_inputs after imputation"
   ]
  },
  {
   "cell_type": "code",
   "execution_count": 29,
   "metadata": {
    "executionInfo": {
     "elapsed": 91,
     "status": "aborted",
     "timestamp": 1627377356985,
     "user": {
      "displayName": "Satyam Tiwari",
      "photoUrl": "https://lh3.googleusercontent.com/a-/AOh14GjqLI34ChbXF3k3oSReFsdP3EQ-tinTtJVxPtDl8Q=s64",
      "userId": "18063518489999743566"
     },
     "user_tz": -330
    },
    "id": "L29qhDRBPGPW"
   },
   "outputs": [
    {
     "data": {
      "text/plain": [
       "MinTemp          0\n",
       "MaxTemp          0\n",
       "Rainfall         0\n",
       "Evaporation      0\n",
       "Sunshine         0\n",
       "WindGustSpeed    0\n",
       "WindSpeed9am     0\n",
       "WindSpeed3pm     0\n",
       "Humidity9am      0\n",
       "Humidity3pm      0\n",
       "Pressure9am      0\n",
       "Pressure3pm      0\n",
       "Cloud9am         0\n",
       "Cloud3pm         0\n",
       "Temp9am          0\n",
       "Temp3pm          0\n",
       "dtype: int64"
      ]
     },
     "execution_count": 29,
     "metadata": {},
     "output_type": "execute_result"
    }
   ],
   "source": [
    "train_inputs1[numeric_cols].isna().sum()"
   ]
  },
  {
   "cell_type": "code",
   "execution_count": 30,
   "metadata": {
    "executionInfo": {
     "elapsed": 95,
     "status": "aborted",
     "timestamp": 1627377356989,
     "user": {
      "displayName": "Satyam Tiwari",
      "photoUrl": "https://lh3.googleusercontent.com/a-/AOh14GjqLI34ChbXF3k3oSReFsdP3EQ-tinTtJVxPtDl8Q=s64",
      "userId": "18063518489999743566"
     },
     "user_tz": -330
    },
    "id": "yFrKjyiSPGPW"
   },
   "outputs": [
    {
     "data": {
      "text/html": [
       "<div>\n",
       "<style scoped>\n",
       "    .dataframe tbody tr th:only-of-type {\n",
       "        vertical-align: middle;\n",
       "    }\n",
       "\n",
       "    .dataframe tbody tr th {\n",
       "        vertical-align: top;\n",
       "    }\n",
       "\n",
       "    .dataframe thead th {\n",
       "        text-align: right;\n",
       "    }\n",
       "</style>\n",
       "<table border=\"1\" class=\"dataframe\">\n",
       "  <thead>\n",
       "    <tr style=\"text-align: right;\">\n",
       "      <th></th>\n",
       "      <th>MinTemp</th>\n",
       "      <th>MaxTemp</th>\n",
       "      <th>Rainfall</th>\n",
       "      <th>Evaporation</th>\n",
       "      <th>Sunshine</th>\n",
       "      <th>WindGustSpeed</th>\n",
       "      <th>WindSpeed9am</th>\n",
       "      <th>WindSpeed3pm</th>\n",
       "      <th>Humidity9am</th>\n",
       "      <th>Humidity3pm</th>\n",
       "      <th>Pressure9am</th>\n",
       "      <th>Pressure3pm</th>\n",
       "      <th>Cloud9am</th>\n",
       "      <th>Cloud3pm</th>\n",
       "      <th>Temp9am</th>\n",
       "      <th>Temp3pm</th>\n",
       "    </tr>\n",
       "  </thead>\n",
       "  <tbody>\n",
       "    <tr>\n",
       "      <th>0</th>\n",
       "      <td>13.4</td>\n",
       "      <td>22.9</td>\n",
       "      <td>0.6</td>\n",
       "      <td>4.8</td>\n",
       "      <td>8.5</td>\n",
       "      <td>44.0</td>\n",
       "      <td>20.0</td>\n",
       "      <td>24.0</td>\n",
       "      <td>71.0</td>\n",
       "      <td>22.0</td>\n",
       "      <td>1007.7</td>\n",
       "      <td>1007.1</td>\n",
       "      <td>8.0</td>\n",
       "      <td>5.0</td>\n",
       "      <td>16.9</td>\n",
       "      <td>21.8</td>\n",
       "    </tr>\n",
       "    <tr>\n",
       "      <th>1</th>\n",
       "      <td>7.4</td>\n",
       "      <td>25.1</td>\n",
       "      <td>0.0</td>\n",
       "      <td>4.8</td>\n",
       "      <td>8.5</td>\n",
       "      <td>44.0</td>\n",
       "      <td>4.0</td>\n",
       "      <td>22.0</td>\n",
       "      <td>44.0</td>\n",
       "      <td>25.0</td>\n",
       "      <td>1010.6</td>\n",
       "      <td>1007.8</td>\n",
       "      <td>5.0</td>\n",
       "      <td>5.0</td>\n",
       "      <td>17.2</td>\n",
       "      <td>24.3</td>\n",
       "    </tr>\n",
       "    <tr>\n",
       "      <th>2</th>\n",
       "      <td>12.9</td>\n",
       "      <td>25.7</td>\n",
       "      <td>0.0</td>\n",
       "      <td>4.8</td>\n",
       "      <td>8.5</td>\n",
       "      <td>46.0</td>\n",
       "      <td>19.0</td>\n",
       "      <td>26.0</td>\n",
       "      <td>38.0</td>\n",
       "      <td>30.0</td>\n",
       "      <td>1007.6</td>\n",
       "      <td>1008.7</td>\n",
       "      <td>5.0</td>\n",
       "      <td>2.0</td>\n",
       "      <td>21.0</td>\n",
       "      <td>23.2</td>\n",
       "    </tr>\n",
       "    <tr>\n",
       "      <th>3</th>\n",
       "      <td>9.2</td>\n",
       "      <td>28.0</td>\n",
       "      <td>0.0</td>\n",
       "      <td>4.8</td>\n",
       "      <td>8.5</td>\n",
       "      <td>24.0</td>\n",
       "      <td>11.0</td>\n",
       "      <td>9.0</td>\n",
       "      <td>45.0</td>\n",
       "      <td>16.0</td>\n",
       "      <td>1017.6</td>\n",
       "      <td>1012.8</td>\n",
       "      <td>5.0</td>\n",
       "      <td>5.0</td>\n",
       "      <td>18.1</td>\n",
       "      <td>26.5</td>\n",
       "    </tr>\n",
       "    <tr>\n",
       "      <th>4</th>\n",
       "      <td>17.5</td>\n",
       "      <td>32.3</td>\n",
       "      <td>1.0</td>\n",
       "      <td>4.8</td>\n",
       "      <td>8.5</td>\n",
       "      <td>41.0</td>\n",
       "      <td>7.0</td>\n",
       "      <td>20.0</td>\n",
       "      <td>82.0</td>\n",
       "      <td>33.0</td>\n",
       "      <td>1010.8</td>\n",
       "      <td>1006.0</td>\n",
       "      <td>7.0</td>\n",
       "      <td>8.0</td>\n",
       "      <td>17.8</td>\n",
       "      <td>29.7</td>\n",
       "    </tr>\n",
       "    <tr>\n",
       "      <th>...</th>\n",
       "      <td>...</td>\n",
       "      <td>...</td>\n",
       "      <td>...</td>\n",
       "      <td>...</td>\n",
       "      <td>...</td>\n",
       "      <td>...</td>\n",
       "      <td>...</td>\n",
       "      <td>...</td>\n",
       "      <td>...</td>\n",
       "      <td>...</td>\n",
       "      <td>...</td>\n",
       "      <td>...</td>\n",
       "      <td>...</td>\n",
       "      <td>...</td>\n",
       "      <td>...</td>\n",
       "      <td>...</td>\n",
       "    </tr>\n",
       "    <tr>\n",
       "      <th>144548</th>\n",
       "      <td>16.9</td>\n",
       "      <td>33.2</td>\n",
       "      <td>0.0</td>\n",
       "      <td>4.8</td>\n",
       "      <td>8.5</td>\n",
       "      <td>43.0</td>\n",
       "      <td>24.0</td>\n",
       "      <td>26.0</td>\n",
       "      <td>22.0</td>\n",
       "      <td>13.0</td>\n",
       "      <td>1014.1</td>\n",
       "      <td>1009.8</td>\n",
       "      <td>5.0</td>\n",
       "      <td>5.0</td>\n",
       "      <td>23.7</td>\n",
       "      <td>31.8</td>\n",
       "    </tr>\n",
       "    <tr>\n",
       "      <th>144549</th>\n",
       "      <td>15.1</td>\n",
       "      <td>36.8</td>\n",
       "      <td>0.0</td>\n",
       "      <td>4.8</td>\n",
       "      <td>8.5</td>\n",
       "      <td>31.0</td>\n",
       "      <td>19.0</td>\n",
       "      <td>20.0</td>\n",
       "      <td>16.0</td>\n",
       "      <td>8.0</td>\n",
       "      <td>1012.6</td>\n",
       "      <td>1007.6</td>\n",
       "      <td>5.0</td>\n",
       "      <td>5.0</td>\n",
       "      <td>28.9</td>\n",
       "      <td>34.8</td>\n",
       "    </tr>\n",
       "    <tr>\n",
       "      <th>144550</th>\n",
       "      <td>17.3</td>\n",
       "      <td>37.8</td>\n",
       "      <td>0.0</td>\n",
       "      <td>4.8</td>\n",
       "      <td>8.5</td>\n",
       "      <td>39.0</td>\n",
       "      <td>26.0</td>\n",
       "      <td>9.0</td>\n",
       "      <td>15.0</td>\n",
       "      <td>8.0</td>\n",
       "      <td>1011.9</td>\n",
       "      <td>1008.0</td>\n",
       "      <td>5.0</td>\n",
       "      <td>5.0</td>\n",
       "      <td>29.7</td>\n",
       "      <td>35.7</td>\n",
       "    </tr>\n",
       "    <tr>\n",
       "      <th>144551</th>\n",
       "      <td>20.1</td>\n",
       "      <td>38.5</td>\n",
       "      <td>0.0</td>\n",
       "      <td>4.8</td>\n",
       "      <td>8.5</td>\n",
       "      <td>43.0</td>\n",
       "      <td>28.0</td>\n",
       "      <td>17.0</td>\n",
       "      <td>22.0</td>\n",
       "      <td>9.0</td>\n",
       "      <td>1014.0</td>\n",
       "      <td>1009.2</td>\n",
       "      <td>5.0</td>\n",
       "      <td>5.0</td>\n",
       "      <td>29.8</td>\n",
       "      <td>37.2</td>\n",
       "    </tr>\n",
       "    <tr>\n",
       "      <th>144552</th>\n",
       "      <td>22.5</td>\n",
       "      <td>39.6</td>\n",
       "      <td>0.0</td>\n",
       "      <td>4.8</td>\n",
       "      <td>8.5</td>\n",
       "      <td>76.0</td>\n",
       "      <td>30.0</td>\n",
       "      <td>13.0</td>\n",
       "      <td>16.0</td>\n",
       "      <td>9.0</td>\n",
       "      <td>1012.1</td>\n",
       "      <td>1006.2</td>\n",
       "      <td>5.0</td>\n",
       "      <td>5.0</td>\n",
       "      <td>30.1</td>\n",
       "      <td>37.4</td>\n",
       "    </tr>\n",
       "  </tbody>\n",
       "</table>\n",
       "<p>98988 rows × 16 columns</p>\n",
       "</div>"
      ],
      "text/plain": [
       "        MinTemp  MaxTemp  Rainfall  Evaporation  Sunshine  WindGustSpeed  \\\n",
       "0          13.4     22.9       0.6          4.8       8.5           44.0   \n",
       "1           7.4     25.1       0.0          4.8       8.5           44.0   \n",
       "2          12.9     25.7       0.0          4.8       8.5           46.0   \n",
       "3           9.2     28.0       0.0          4.8       8.5           24.0   \n",
       "4          17.5     32.3       1.0          4.8       8.5           41.0   \n",
       "...         ...      ...       ...          ...       ...            ...   \n",
       "144548     16.9     33.2       0.0          4.8       8.5           43.0   \n",
       "144549     15.1     36.8       0.0          4.8       8.5           31.0   \n",
       "144550     17.3     37.8       0.0          4.8       8.5           39.0   \n",
       "144551     20.1     38.5       0.0          4.8       8.5           43.0   \n",
       "144552     22.5     39.6       0.0          4.8       8.5           76.0   \n",
       "\n",
       "        WindSpeed9am  WindSpeed3pm  Humidity9am  Humidity3pm  Pressure9am  \\\n",
       "0               20.0          24.0         71.0         22.0       1007.7   \n",
       "1                4.0          22.0         44.0         25.0       1010.6   \n",
       "2               19.0          26.0         38.0         30.0       1007.6   \n",
       "3               11.0           9.0         45.0         16.0       1017.6   \n",
       "4                7.0          20.0         82.0         33.0       1010.8   \n",
       "...              ...           ...          ...          ...          ...   \n",
       "144548          24.0          26.0         22.0         13.0       1014.1   \n",
       "144549          19.0          20.0         16.0          8.0       1012.6   \n",
       "144550          26.0           9.0         15.0          8.0       1011.9   \n",
       "144551          28.0          17.0         22.0          9.0       1014.0   \n",
       "144552          30.0          13.0         16.0          9.0       1012.1   \n",
       "\n",
       "        Pressure3pm  Cloud9am  Cloud3pm  Temp9am  Temp3pm  \n",
       "0            1007.1       8.0       5.0     16.9     21.8  \n",
       "1            1007.8       5.0       5.0     17.2     24.3  \n",
       "2            1008.7       5.0       2.0     21.0     23.2  \n",
       "3            1012.8       5.0       5.0     18.1     26.5  \n",
       "4            1006.0       7.0       8.0     17.8     29.7  \n",
       "...             ...       ...       ...      ...      ...  \n",
       "144548       1009.8       5.0       5.0     23.7     31.8  \n",
       "144549       1007.6       5.0       5.0     28.9     34.8  \n",
       "144550       1008.0       5.0       5.0     29.7     35.7  \n",
       "144551       1009.2       5.0       5.0     29.8     37.2  \n",
       "144552       1006.2       5.0       5.0     30.1     37.4  \n",
       "\n",
       "[98988 rows x 16 columns]"
      ]
     },
     "execution_count": 30,
     "metadata": {},
     "output_type": "execute_result"
    }
   ],
   "source": [
    "train_inputs1[numeric_cols]"
   ]
  },
  {
   "cell_type": "code",
   "execution_count": 31,
   "metadata": {
    "executionInfo": {
     "elapsed": 97,
     "status": "aborted",
     "timestamp": 1627377356992,
     "user": {
      "displayName": "Satyam Tiwari",
      "photoUrl": "https://lh3.googleusercontent.com/a-/AOh14GjqLI34ChbXF3k3oSReFsdP3EQ-tinTtJVxPtDl8Q=s64",
      "userId": "18063518489999743566"
     },
     "user_tz": -330
    },
    "id": "PXBIbtXbPGPW"
   },
   "outputs": [
    {
     "data": {
      "text/plain": [
       "8.5"
      ]
     },
     "execution_count": 31,
     "metadata": {},
     "output_type": "execute_result"
    }
   ],
   "source": [
    "df.Sunshine.median()"
   ]
  },
  {
   "cell_type": "markdown",
   "metadata": {
    "id": "WFtBqsXlPGPW"
   },
   "source": [
    "Now using strategy as 'median' we have filled the missing values using the median of the non missing values.\n",
    "\n",
    "Median is preferred when there are outliers in the data, as outliers do not have an influence on median."
   ]
  },
  {
   "cell_type": "markdown",
   "metadata": {
    "id": "51dcPAuEPGPW"
   },
   "source": [
    "### SimpleImputer (strategy ='most_frequent')"
   ]
  },
  {
   "cell_type": "markdown",
   "metadata": {
    "executionInfo": {
     "elapsed": 98,
     "status": "aborted",
     "timestamp": 1627377356993,
     "user": {
      "displayName": "Satyam Tiwari",
      "photoUrl": "https://lh3.googleusercontent.com/a-/AOh14GjqLI34ChbXF3k3oSReFsdP3EQ-tinTtJVxPtDl8Q=s64",
      "userId": "18063518489999743566"
     },
     "user_tz": -330
    },
    "id": "5MOWjdV9PGPX"
   },
   "source": [
    "Let's use value_count function to find the most frequent value in sunshine column"
   ]
  },
  {
   "cell_type": "code",
   "execution_count": 32,
   "metadata": {
    "executionInfo": {
     "elapsed": 100,
     "status": "aborted",
     "timestamp": 1627377356996,
     "user": {
      "displayName": "Satyam Tiwari",
      "photoUrl": "https://lh3.googleusercontent.com/a-/AOh14GjqLI34ChbXF3k3oSReFsdP3EQ-tinTtJVxPtDl8Q=s64",
      "userId": "18063518489999743566"
     },
     "user_tz": -330
    },
    "id": "yECB8QLaPGPX"
   },
   "outputs": [
    {
     "data": {
      "text/plain": [
       "0.0     2308\n",
       "10.7    1087\n",
       "11.0    1078\n",
       "10.8    1058\n",
       "10.5    1018\n",
       "10.9    1013\n",
       "10.3     999\n",
       "10.2     985\n",
       "10.0     973\n",
       "11.1     967\n",
       "10.6     961\n",
       "10.4     961\n",
       "9.8      956\n",
       "10.1     939\n",
       "9.2      909\n",
       "11.2     900\n",
       "9.9      889\n",
       "9.5      854\n",
       "9.6      848\n",
       "9.7      845\n",
       "9.4      829\n",
       "9.3      817\n",
       "9.0      765\n",
       "9.1      762\n",
       "11.3     757\n",
       "8.8      740\n",
       "8.4      709\n",
       "11.4     698\n",
       "8.9      695\n",
       "8.7      691\n",
       "8.2      679\n",
       "8.0      651\n",
       "11.6     649\n",
       "8.5      649\n",
       "8.3      638\n",
       "7.8      627\n",
       "7.2      620\n",
       "13.0     619\n",
       "8.6      614\n",
       "8.1      611\n",
       "12.0     602\n",
       "11.5     581\n",
       "11.7     578\n",
       "13.1     565\n",
       "7.3      565\n",
       "12.7     564\n",
       "7.1      562\n",
       "13.2     558\n",
       "7.5      555\n",
       "11.9     550\n",
       "7.7      549\n",
       "11.8     547\n",
       "7.6      547\n",
       "12.2     538\n",
       "0.1      533\n",
       "6.8      526\n",
       "6.1      523\n",
       "6.3      523\n",
       "6.9      523\n",
       "12.5     522\n",
       "7.9      517\n",
       "7.0      516\n",
       "6.0      512\n",
       "7.4      512\n",
       "0.2      511\n",
       "6.2      497\n",
       "12.6     494\n",
       "6.6      493\n",
       "6.5      484\n",
       "12.3     483\n",
       "12.4     477\n",
       "5.7      470\n",
       "12.8     470\n",
       "6.4      468\n",
       "5.8      465\n",
       "5.5      465\n",
       "12.1     463\n",
       "6.7      459\n",
       "5.0      458\n",
       "5.2      437\n",
       "13.3     435\n",
       "5.9      426\n",
       "5.6      423\n",
       "0.3      422\n",
       "12.9     420\n",
       "4.8      413\n",
       "5.4      405\n",
       "5.3      405\n",
       "3.8      394\n",
       "4.3      394\n",
       "4.5      393\n",
       "4.7      384\n",
       "3.2      383\n",
       "4.9      382\n",
       "5.1      381\n",
       "3.0      380\n",
       "4.0      379\n",
       "4.4      375\n",
       "3.9      373\n",
       "4.1      370\n",
       "4.6      364\n",
       "4.2      362\n",
       "3.6      359\n",
       "2.7      343\n",
       "0.7      338\n",
       "2.3      330\n",
       "1.0      326\n",
       "3.5      326\n",
       "3.3      321\n",
       "0.4      319\n",
       "0.9      318\n",
       "2.8      318\n",
       "2.4      318\n",
       "0.5      315\n",
       "0.8      314\n",
       "1.2      309\n",
       "2.9      307\n",
       "2.2      307\n",
       "13.4     304\n",
       "2.1      302\n",
       "2.0      299\n",
       "1.8      297\n",
       "1.6      297\n",
       "1.7      296\n",
       "2.6      295\n",
       "0.6      293\n",
       "1.9      293\n",
       "3.7      292\n",
       "1.4      292\n",
       "1.5      288\n",
       "1.3      286\n",
       "3.4      279\n",
       "3.1      279\n",
       "2.5      274\n",
       "1.1      266\n",
       "13.5     181\n",
       "13.6     180\n",
       "13.7     117\n",
       "13.8      56\n",
       "13.9      22\n",
       "14.0      15\n",
       "14.1       6\n",
       "14.3       4\n",
       "14.2       2\n",
       "14.5       1\n",
       "Name: Sunshine, dtype: int64"
      ]
     },
     "execution_count": 32,
     "metadata": {},
     "output_type": "execute_result"
    }
   ],
   "source": [
    "df['Sunshine'].value_counts()"
   ]
  },
  {
   "cell_type": "markdown",
   "metadata": {
    "id": "lMySBA6-PGPX"
   },
   "source": [
    "It can be seen that 0 occurs the most times in the Sunshine columns.\n",
    "\n",
    "Let's impute the missing values using strategy as most_frequent"
   ]
  },
  {
   "cell_type": "markdown",
   "metadata": {
    "executionInfo": {
     "elapsed": 101,
     "status": "aborted",
     "timestamp": 1627377356997,
     "user": {
      "displayName": "Satyam Tiwari",
      "photoUrl": "https://lh3.googleusercontent.com/a-/AOh14GjqLI34ChbXF3k3oSReFsdP3EQ-tinTtJVxPtDl8Q=s64",
      "userId": "18063518489999743566"
     },
     "user_tz": -330
    },
    "id": "Jpqn-pYePGPX"
   },
   "source": [
    "lets import SimpleImputer from sklearn.impute\n"
   ]
  },
  {
   "cell_type": "code",
   "execution_count": 33,
   "metadata": {
    "executionInfo": {
     "elapsed": 102,
     "status": "aborted",
     "timestamp": 1627377356998,
     "user": {
      "displayName": "Satyam Tiwari",
      "photoUrl": "https://lh3.googleusercontent.com/a-/AOh14GjqLI34ChbXF3k3oSReFsdP3EQ-tinTtJVxPtDl8Q=s64",
      "userId": "18063518489999743566"
     },
     "user_tz": -330
    },
    "id": "76L5tSKQPGPY"
   },
   "outputs": [],
   "source": [
    "from sklearn.impute import SimpleImputer"
   ]
  },
  {
   "cell_type": "code",
   "execution_count": 34,
   "metadata": {
    "executionInfo": {
     "elapsed": 102,
     "status": "aborted",
     "timestamp": 1627377356999,
     "user": {
      "displayName": "Satyam Tiwari",
      "photoUrl": "https://lh3.googleusercontent.com/a-/AOh14GjqLI34ChbXF3k3oSReFsdP3EQ-tinTtJVxPtDl8Q=s64",
      "userId": "18063518489999743566"
     },
     "user_tz": -330
    },
    "id": "hHYuOx1tPGPY"
   },
   "outputs": [],
   "source": [
    "# Model Creation\n",
    "imputer = SimpleImputer(strategy ='most_frequent')\n",
    "# fitting the imputer on the original dataset\n",
    "imputer.fit(df[numeric_cols])\n",
    "# Imputing the missing values in train, validation and test inputs\n",
    "train_inputs2[numeric_cols]=imputer.transform(train_inputs2[numeric_cols])\n",
    "val_inputs2[numeric_cols]=imputer.transform(val_inputs2[numeric_cols])\n",
    "test_inputs2[numeric_cols]=imputer.transform(test_inputs2[numeric_cols])"
   ]
  },
  {
   "cell_type": "code",
   "execution_count": 35,
   "metadata": {
    "executionInfo": {
     "elapsed": 104,
     "status": "aborted",
     "timestamp": 1627377357002,
     "user": {
      "displayName": "Satyam Tiwari",
      "photoUrl": "https://lh3.googleusercontent.com/a-/AOh14GjqLI34ChbXF3k3oSReFsdP3EQ-tinTtJVxPtDl8Q=s64",
      "userId": "18063518489999743566"
     },
     "user_tz": -330
    },
    "id": "s3cFLVMfPGPY"
   },
   "outputs": [
    {
     "data": {
      "text/html": [
       "<div>\n",
       "<style scoped>\n",
       "    .dataframe tbody tr th:only-of-type {\n",
       "        vertical-align: middle;\n",
       "    }\n",
       "\n",
       "    .dataframe tbody tr th {\n",
       "        vertical-align: top;\n",
       "    }\n",
       "\n",
       "    .dataframe thead th {\n",
       "        text-align: right;\n",
       "    }\n",
       "</style>\n",
       "<table border=\"1\" class=\"dataframe\">\n",
       "  <thead>\n",
       "    <tr style=\"text-align: right;\">\n",
       "      <th></th>\n",
       "      <th>MinTemp</th>\n",
       "      <th>MaxTemp</th>\n",
       "      <th>Rainfall</th>\n",
       "      <th>Evaporation</th>\n",
       "      <th>Sunshine</th>\n",
       "      <th>WindGustSpeed</th>\n",
       "      <th>WindSpeed9am</th>\n",
       "      <th>WindSpeed3pm</th>\n",
       "      <th>Humidity9am</th>\n",
       "      <th>Humidity3pm</th>\n",
       "      <th>Pressure9am</th>\n",
       "      <th>Pressure3pm</th>\n",
       "      <th>Cloud9am</th>\n",
       "      <th>Cloud3pm</th>\n",
       "      <th>Temp9am</th>\n",
       "      <th>Temp3pm</th>\n",
       "    </tr>\n",
       "  </thead>\n",
       "  <tbody>\n",
       "    <tr>\n",
       "      <th>0</th>\n",
       "      <td>13.4</td>\n",
       "      <td>22.9</td>\n",
       "      <td>0.6</td>\n",
       "      <td>4.0</td>\n",
       "      <td>0.0</td>\n",
       "      <td>44.0</td>\n",
       "      <td>20.0</td>\n",
       "      <td>24.0</td>\n",
       "      <td>71.0</td>\n",
       "      <td>22.0</td>\n",
       "      <td>1007.7</td>\n",
       "      <td>1007.1</td>\n",
       "      <td>8.0</td>\n",
       "      <td>7.0</td>\n",
       "      <td>16.9</td>\n",
       "      <td>21.8</td>\n",
       "    </tr>\n",
       "    <tr>\n",
       "      <th>1</th>\n",
       "      <td>7.4</td>\n",
       "      <td>25.1</td>\n",
       "      <td>0.0</td>\n",
       "      <td>4.0</td>\n",
       "      <td>0.0</td>\n",
       "      <td>44.0</td>\n",
       "      <td>4.0</td>\n",
       "      <td>22.0</td>\n",
       "      <td>44.0</td>\n",
       "      <td>25.0</td>\n",
       "      <td>1010.6</td>\n",
       "      <td>1007.8</td>\n",
       "      <td>7.0</td>\n",
       "      <td>7.0</td>\n",
       "      <td>17.2</td>\n",
       "      <td>24.3</td>\n",
       "    </tr>\n",
       "    <tr>\n",
       "      <th>2</th>\n",
       "      <td>12.9</td>\n",
       "      <td>25.7</td>\n",
       "      <td>0.0</td>\n",
       "      <td>4.0</td>\n",
       "      <td>0.0</td>\n",
       "      <td>46.0</td>\n",
       "      <td>19.0</td>\n",
       "      <td>26.0</td>\n",
       "      <td>38.0</td>\n",
       "      <td>30.0</td>\n",
       "      <td>1007.6</td>\n",
       "      <td>1008.7</td>\n",
       "      <td>7.0</td>\n",
       "      <td>2.0</td>\n",
       "      <td>21.0</td>\n",
       "      <td>23.2</td>\n",
       "    </tr>\n",
       "    <tr>\n",
       "      <th>3</th>\n",
       "      <td>9.2</td>\n",
       "      <td>28.0</td>\n",
       "      <td>0.0</td>\n",
       "      <td>4.0</td>\n",
       "      <td>0.0</td>\n",
       "      <td>24.0</td>\n",
       "      <td>11.0</td>\n",
       "      <td>9.0</td>\n",
       "      <td>45.0</td>\n",
       "      <td>16.0</td>\n",
       "      <td>1017.6</td>\n",
       "      <td>1012.8</td>\n",
       "      <td>7.0</td>\n",
       "      <td>7.0</td>\n",
       "      <td>18.1</td>\n",
       "      <td>26.5</td>\n",
       "    </tr>\n",
       "    <tr>\n",
       "      <th>4</th>\n",
       "      <td>17.5</td>\n",
       "      <td>32.3</td>\n",
       "      <td>1.0</td>\n",
       "      <td>4.0</td>\n",
       "      <td>0.0</td>\n",
       "      <td>41.0</td>\n",
       "      <td>7.0</td>\n",
       "      <td>20.0</td>\n",
       "      <td>82.0</td>\n",
       "      <td>33.0</td>\n",
       "      <td>1010.8</td>\n",
       "      <td>1006.0</td>\n",
       "      <td>7.0</td>\n",
       "      <td>8.0</td>\n",
       "      <td>17.8</td>\n",
       "      <td>29.7</td>\n",
       "    </tr>\n",
       "    <tr>\n",
       "      <th>...</th>\n",
       "      <td>...</td>\n",
       "      <td>...</td>\n",
       "      <td>...</td>\n",
       "      <td>...</td>\n",
       "      <td>...</td>\n",
       "      <td>...</td>\n",
       "      <td>...</td>\n",
       "      <td>...</td>\n",
       "      <td>...</td>\n",
       "      <td>...</td>\n",
       "      <td>...</td>\n",
       "      <td>...</td>\n",
       "      <td>...</td>\n",
       "      <td>...</td>\n",
       "      <td>...</td>\n",
       "      <td>...</td>\n",
       "    </tr>\n",
       "    <tr>\n",
       "      <th>144548</th>\n",
       "      <td>16.9</td>\n",
       "      <td>33.2</td>\n",
       "      <td>0.0</td>\n",
       "      <td>4.0</td>\n",
       "      <td>0.0</td>\n",
       "      <td>43.0</td>\n",
       "      <td>24.0</td>\n",
       "      <td>26.0</td>\n",
       "      <td>22.0</td>\n",
       "      <td>13.0</td>\n",
       "      <td>1014.1</td>\n",
       "      <td>1009.8</td>\n",
       "      <td>7.0</td>\n",
       "      <td>7.0</td>\n",
       "      <td>23.7</td>\n",
       "      <td>31.8</td>\n",
       "    </tr>\n",
       "    <tr>\n",
       "      <th>144549</th>\n",
       "      <td>15.1</td>\n",
       "      <td>36.8</td>\n",
       "      <td>0.0</td>\n",
       "      <td>4.0</td>\n",
       "      <td>0.0</td>\n",
       "      <td>31.0</td>\n",
       "      <td>19.0</td>\n",
       "      <td>20.0</td>\n",
       "      <td>16.0</td>\n",
       "      <td>8.0</td>\n",
       "      <td>1012.6</td>\n",
       "      <td>1007.6</td>\n",
       "      <td>7.0</td>\n",
       "      <td>7.0</td>\n",
       "      <td>28.9</td>\n",
       "      <td>34.8</td>\n",
       "    </tr>\n",
       "    <tr>\n",
       "      <th>144550</th>\n",
       "      <td>17.3</td>\n",
       "      <td>37.8</td>\n",
       "      <td>0.0</td>\n",
       "      <td>4.0</td>\n",
       "      <td>0.0</td>\n",
       "      <td>39.0</td>\n",
       "      <td>26.0</td>\n",
       "      <td>9.0</td>\n",
       "      <td>15.0</td>\n",
       "      <td>8.0</td>\n",
       "      <td>1011.9</td>\n",
       "      <td>1008.0</td>\n",
       "      <td>7.0</td>\n",
       "      <td>7.0</td>\n",
       "      <td>29.7</td>\n",
       "      <td>35.7</td>\n",
       "    </tr>\n",
       "    <tr>\n",
       "      <th>144551</th>\n",
       "      <td>20.1</td>\n",
       "      <td>38.5</td>\n",
       "      <td>0.0</td>\n",
       "      <td>4.0</td>\n",
       "      <td>0.0</td>\n",
       "      <td>43.0</td>\n",
       "      <td>28.0</td>\n",
       "      <td>17.0</td>\n",
       "      <td>22.0</td>\n",
       "      <td>9.0</td>\n",
       "      <td>1014.0</td>\n",
       "      <td>1009.2</td>\n",
       "      <td>7.0</td>\n",
       "      <td>7.0</td>\n",
       "      <td>29.8</td>\n",
       "      <td>37.2</td>\n",
       "    </tr>\n",
       "    <tr>\n",
       "      <th>144552</th>\n",
       "      <td>22.5</td>\n",
       "      <td>39.6</td>\n",
       "      <td>0.0</td>\n",
       "      <td>4.0</td>\n",
       "      <td>0.0</td>\n",
       "      <td>76.0</td>\n",
       "      <td>30.0</td>\n",
       "      <td>13.0</td>\n",
       "      <td>16.0</td>\n",
       "      <td>9.0</td>\n",
       "      <td>1012.1</td>\n",
       "      <td>1006.2</td>\n",
       "      <td>7.0</td>\n",
       "      <td>7.0</td>\n",
       "      <td>30.1</td>\n",
       "      <td>37.4</td>\n",
       "    </tr>\n",
       "  </tbody>\n",
       "</table>\n",
       "<p>98988 rows × 16 columns</p>\n",
       "</div>"
      ],
      "text/plain": [
       "        MinTemp  MaxTemp  Rainfall  Evaporation  Sunshine  WindGustSpeed  \\\n",
       "0          13.4     22.9       0.6          4.0       0.0           44.0   \n",
       "1           7.4     25.1       0.0          4.0       0.0           44.0   \n",
       "2          12.9     25.7       0.0          4.0       0.0           46.0   \n",
       "3           9.2     28.0       0.0          4.0       0.0           24.0   \n",
       "4          17.5     32.3       1.0          4.0       0.0           41.0   \n",
       "...         ...      ...       ...          ...       ...            ...   \n",
       "144548     16.9     33.2       0.0          4.0       0.0           43.0   \n",
       "144549     15.1     36.8       0.0          4.0       0.0           31.0   \n",
       "144550     17.3     37.8       0.0          4.0       0.0           39.0   \n",
       "144551     20.1     38.5       0.0          4.0       0.0           43.0   \n",
       "144552     22.5     39.6       0.0          4.0       0.0           76.0   \n",
       "\n",
       "        WindSpeed9am  WindSpeed3pm  Humidity9am  Humidity3pm  Pressure9am  \\\n",
       "0               20.0          24.0         71.0         22.0       1007.7   \n",
       "1                4.0          22.0         44.0         25.0       1010.6   \n",
       "2               19.0          26.0         38.0         30.0       1007.6   \n",
       "3               11.0           9.0         45.0         16.0       1017.6   \n",
       "4                7.0          20.0         82.0         33.0       1010.8   \n",
       "...              ...           ...          ...          ...          ...   \n",
       "144548          24.0          26.0         22.0         13.0       1014.1   \n",
       "144549          19.0          20.0         16.0          8.0       1012.6   \n",
       "144550          26.0           9.0         15.0          8.0       1011.9   \n",
       "144551          28.0          17.0         22.0          9.0       1014.0   \n",
       "144552          30.0          13.0         16.0          9.0       1012.1   \n",
       "\n",
       "        Pressure3pm  Cloud9am  Cloud3pm  Temp9am  Temp3pm  \n",
       "0            1007.1       8.0       7.0     16.9     21.8  \n",
       "1            1007.8       7.0       7.0     17.2     24.3  \n",
       "2            1008.7       7.0       2.0     21.0     23.2  \n",
       "3            1012.8       7.0       7.0     18.1     26.5  \n",
       "4            1006.0       7.0       8.0     17.8     29.7  \n",
       "...             ...       ...       ...      ...      ...  \n",
       "144548       1009.8       7.0       7.0     23.7     31.8  \n",
       "144549       1007.6       7.0       7.0     28.9     34.8  \n",
       "144550       1008.0       7.0       7.0     29.7     35.7  \n",
       "144551       1009.2       7.0       7.0     29.8     37.2  \n",
       "144552       1006.2       7.0       7.0     30.1     37.4  \n",
       "\n",
       "[98988 rows x 16 columns]"
      ]
     },
     "execution_count": 35,
     "metadata": {},
     "output_type": "execute_result"
    }
   ],
   "source": [
    "train_inputs2[numeric_cols]"
   ]
  },
  {
   "cell_type": "markdown",
   "metadata": {
    "id": "rgmGyfURPGPZ"
   },
   "source": [
    "The missing values in the sunshine column are now replaced with 0 which is the most frequent value"
   ]
  },
  {
   "cell_type": "markdown",
   "metadata": {
    "id": "TfMpbD3vPGPZ"
   },
   "source": [
    "### SimpleImputer (strategy ='constant')"
   ]
  },
  {
   "cell_type": "markdown",
   "metadata": {
    "executionInfo": {
     "elapsed": 105,
     "status": "aborted",
     "timestamp": 1627377357003,
     "user": {
      "displayName": "Satyam Tiwari",
      "photoUrl": "https://lh3.googleusercontent.com/a-/AOh14GjqLI34ChbXF3k3oSReFsdP3EQ-tinTtJVxPtDl8Q=s64",
      "userId": "18063518489999743566"
     },
     "user_tz": -330
    },
    "id": "1hy2zmF-PGPZ"
   },
   "source": [
    "lets import SimpleImputer from sklearn.impute\n"
   ]
  },
  {
   "cell_type": "code",
   "execution_count": 36,
   "metadata": {
    "executionInfo": {
     "elapsed": 107,
     "status": "aborted",
     "timestamp": 1627377357005,
     "user": {
      "displayName": "Satyam Tiwari",
      "photoUrl": "https://lh3.googleusercontent.com/a-/AOh14GjqLI34ChbXF3k3oSReFsdP3EQ-tinTtJVxPtDl8Q=s64",
      "userId": "18063518489999743566"
     },
     "user_tz": -330
    },
    "id": "EoYnQctoPGPZ"
   },
   "outputs": [],
   "source": [
    "from sklearn.impute import SimpleImputer"
   ]
  },
  {
   "cell_type": "code",
   "execution_count": 37,
   "metadata": {
    "executionInfo": {
     "elapsed": 107,
     "status": "aborted",
     "timestamp": 1627377357006,
     "user": {
      "displayName": "Satyam Tiwari",
      "photoUrl": "https://lh3.googleusercontent.com/a-/AOh14GjqLI34ChbXF3k3oSReFsdP3EQ-tinTtJVxPtDl8Q=s64",
      "userId": "18063518489999743566"
     },
     "user_tz": -330
    },
    "id": "B0f9Y-yZPGPZ"
   },
   "outputs": [],
   "source": [
    "# Model Creation\n",
    "imputer = SimpleImputer(strategy ='constant', fill_value =20)\n",
    "# fitting the imputer on the original dataset\n",
    "imputer.fit(df[numeric_cols])\n",
    "# Imputing the missing values in train, validation and test inputs\n",
    "train_inputs3[numeric_cols]=imputer.transform(train_inputs3[numeric_cols])\n",
    "val_inputs3[numeric_cols]=imputer.transform(val_inputs3[numeric_cols])\n",
    "test_inputs3[numeric_cols]=imputer.transform(test_inputs3[numeric_cols])"
   ]
  },
  {
   "cell_type": "code",
   "execution_count": 38,
   "metadata": {
    "executionInfo": {
     "elapsed": 108,
     "status": "aborted",
     "timestamp": 1627377357008,
     "user": {
      "displayName": "Satyam Tiwari",
      "photoUrl": "https://lh3.googleusercontent.com/a-/AOh14GjqLI34ChbXF3k3oSReFsdP3EQ-tinTtJVxPtDl8Q=s64",
      "userId": "18063518489999743566"
     },
     "user_tz": -330
    },
    "id": "NCqMR0NtPGPc"
   },
   "outputs": [
    {
     "data": {
      "text/html": [
       "<div>\n",
       "<style scoped>\n",
       "    .dataframe tbody tr th:only-of-type {\n",
       "        vertical-align: middle;\n",
       "    }\n",
       "\n",
       "    .dataframe tbody tr th {\n",
       "        vertical-align: top;\n",
       "    }\n",
       "\n",
       "    .dataframe thead th {\n",
       "        text-align: right;\n",
       "    }\n",
       "</style>\n",
       "<table border=\"1\" class=\"dataframe\">\n",
       "  <thead>\n",
       "    <tr style=\"text-align: right;\">\n",
       "      <th></th>\n",
       "      <th>MinTemp</th>\n",
       "      <th>MaxTemp</th>\n",
       "      <th>Rainfall</th>\n",
       "      <th>Evaporation</th>\n",
       "      <th>Sunshine</th>\n",
       "      <th>WindGustSpeed</th>\n",
       "      <th>WindSpeed9am</th>\n",
       "      <th>WindSpeed3pm</th>\n",
       "      <th>Humidity9am</th>\n",
       "      <th>Humidity3pm</th>\n",
       "      <th>Pressure9am</th>\n",
       "      <th>Pressure3pm</th>\n",
       "      <th>Cloud9am</th>\n",
       "      <th>Cloud3pm</th>\n",
       "      <th>Temp9am</th>\n",
       "      <th>Temp3pm</th>\n",
       "    </tr>\n",
       "  </thead>\n",
       "  <tbody>\n",
       "    <tr>\n",
       "      <th>0</th>\n",
       "      <td>13.4</td>\n",
       "      <td>22.9</td>\n",
       "      <td>0.6</td>\n",
       "      <td>20.0</td>\n",
       "      <td>20.0</td>\n",
       "      <td>44.0</td>\n",
       "      <td>20.0</td>\n",
       "      <td>24.0</td>\n",
       "      <td>71.0</td>\n",
       "      <td>22.0</td>\n",
       "      <td>1007.7</td>\n",
       "      <td>1007.1</td>\n",
       "      <td>8.0</td>\n",
       "      <td>20.0</td>\n",
       "      <td>16.9</td>\n",
       "      <td>21.8</td>\n",
       "    </tr>\n",
       "    <tr>\n",
       "      <th>1</th>\n",
       "      <td>7.4</td>\n",
       "      <td>25.1</td>\n",
       "      <td>0.0</td>\n",
       "      <td>20.0</td>\n",
       "      <td>20.0</td>\n",
       "      <td>44.0</td>\n",
       "      <td>4.0</td>\n",
       "      <td>22.0</td>\n",
       "      <td>44.0</td>\n",
       "      <td>25.0</td>\n",
       "      <td>1010.6</td>\n",
       "      <td>1007.8</td>\n",
       "      <td>20.0</td>\n",
       "      <td>20.0</td>\n",
       "      <td>17.2</td>\n",
       "      <td>24.3</td>\n",
       "    </tr>\n",
       "    <tr>\n",
       "      <th>2</th>\n",
       "      <td>12.9</td>\n",
       "      <td>25.7</td>\n",
       "      <td>0.0</td>\n",
       "      <td>20.0</td>\n",
       "      <td>20.0</td>\n",
       "      <td>46.0</td>\n",
       "      <td>19.0</td>\n",
       "      <td>26.0</td>\n",
       "      <td>38.0</td>\n",
       "      <td>30.0</td>\n",
       "      <td>1007.6</td>\n",
       "      <td>1008.7</td>\n",
       "      <td>20.0</td>\n",
       "      <td>2.0</td>\n",
       "      <td>21.0</td>\n",
       "      <td>23.2</td>\n",
       "    </tr>\n",
       "    <tr>\n",
       "      <th>3</th>\n",
       "      <td>9.2</td>\n",
       "      <td>28.0</td>\n",
       "      <td>0.0</td>\n",
       "      <td>20.0</td>\n",
       "      <td>20.0</td>\n",
       "      <td>24.0</td>\n",
       "      <td>11.0</td>\n",
       "      <td>9.0</td>\n",
       "      <td>45.0</td>\n",
       "      <td>16.0</td>\n",
       "      <td>1017.6</td>\n",
       "      <td>1012.8</td>\n",
       "      <td>20.0</td>\n",
       "      <td>20.0</td>\n",
       "      <td>18.1</td>\n",
       "      <td>26.5</td>\n",
       "    </tr>\n",
       "    <tr>\n",
       "      <th>4</th>\n",
       "      <td>17.5</td>\n",
       "      <td>32.3</td>\n",
       "      <td>1.0</td>\n",
       "      <td>20.0</td>\n",
       "      <td>20.0</td>\n",
       "      <td>41.0</td>\n",
       "      <td>7.0</td>\n",
       "      <td>20.0</td>\n",
       "      <td>82.0</td>\n",
       "      <td>33.0</td>\n",
       "      <td>1010.8</td>\n",
       "      <td>1006.0</td>\n",
       "      <td>7.0</td>\n",
       "      <td>8.0</td>\n",
       "      <td>17.8</td>\n",
       "      <td>29.7</td>\n",
       "    </tr>\n",
       "    <tr>\n",
       "      <th>...</th>\n",
       "      <td>...</td>\n",
       "      <td>...</td>\n",
       "      <td>...</td>\n",
       "      <td>...</td>\n",
       "      <td>...</td>\n",
       "      <td>...</td>\n",
       "      <td>...</td>\n",
       "      <td>...</td>\n",
       "      <td>...</td>\n",
       "      <td>...</td>\n",
       "      <td>...</td>\n",
       "      <td>...</td>\n",
       "      <td>...</td>\n",
       "      <td>...</td>\n",
       "      <td>...</td>\n",
       "      <td>...</td>\n",
       "    </tr>\n",
       "    <tr>\n",
       "      <th>144548</th>\n",
       "      <td>16.9</td>\n",
       "      <td>33.2</td>\n",
       "      <td>0.0</td>\n",
       "      <td>20.0</td>\n",
       "      <td>20.0</td>\n",
       "      <td>43.0</td>\n",
       "      <td>24.0</td>\n",
       "      <td>26.0</td>\n",
       "      <td>22.0</td>\n",
       "      <td>13.0</td>\n",
       "      <td>1014.1</td>\n",
       "      <td>1009.8</td>\n",
       "      <td>20.0</td>\n",
       "      <td>20.0</td>\n",
       "      <td>23.7</td>\n",
       "      <td>31.8</td>\n",
       "    </tr>\n",
       "    <tr>\n",
       "      <th>144549</th>\n",
       "      <td>15.1</td>\n",
       "      <td>36.8</td>\n",
       "      <td>0.0</td>\n",
       "      <td>20.0</td>\n",
       "      <td>20.0</td>\n",
       "      <td>31.0</td>\n",
       "      <td>19.0</td>\n",
       "      <td>20.0</td>\n",
       "      <td>16.0</td>\n",
       "      <td>8.0</td>\n",
       "      <td>1012.6</td>\n",
       "      <td>1007.6</td>\n",
       "      <td>20.0</td>\n",
       "      <td>20.0</td>\n",
       "      <td>28.9</td>\n",
       "      <td>34.8</td>\n",
       "    </tr>\n",
       "    <tr>\n",
       "      <th>144550</th>\n",
       "      <td>17.3</td>\n",
       "      <td>37.8</td>\n",
       "      <td>0.0</td>\n",
       "      <td>20.0</td>\n",
       "      <td>20.0</td>\n",
       "      <td>39.0</td>\n",
       "      <td>26.0</td>\n",
       "      <td>9.0</td>\n",
       "      <td>15.0</td>\n",
       "      <td>8.0</td>\n",
       "      <td>1011.9</td>\n",
       "      <td>1008.0</td>\n",
       "      <td>20.0</td>\n",
       "      <td>20.0</td>\n",
       "      <td>29.7</td>\n",
       "      <td>35.7</td>\n",
       "    </tr>\n",
       "    <tr>\n",
       "      <th>144551</th>\n",
       "      <td>20.1</td>\n",
       "      <td>38.5</td>\n",
       "      <td>0.0</td>\n",
       "      <td>20.0</td>\n",
       "      <td>20.0</td>\n",
       "      <td>43.0</td>\n",
       "      <td>28.0</td>\n",
       "      <td>17.0</td>\n",
       "      <td>22.0</td>\n",
       "      <td>9.0</td>\n",
       "      <td>1014.0</td>\n",
       "      <td>1009.2</td>\n",
       "      <td>20.0</td>\n",
       "      <td>20.0</td>\n",
       "      <td>29.8</td>\n",
       "      <td>37.2</td>\n",
       "    </tr>\n",
       "    <tr>\n",
       "      <th>144552</th>\n",
       "      <td>22.5</td>\n",
       "      <td>39.6</td>\n",
       "      <td>0.0</td>\n",
       "      <td>20.0</td>\n",
       "      <td>20.0</td>\n",
       "      <td>76.0</td>\n",
       "      <td>30.0</td>\n",
       "      <td>13.0</td>\n",
       "      <td>16.0</td>\n",
       "      <td>9.0</td>\n",
       "      <td>1012.1</td>\n",
       "      <td>1006.2</td>\n",
       "      <td>20.0</td>\n",
       "      <td>20.0</td>\n",
       "      <td>30.1</td>\n",
       "      <td>37.4</td>\n",
       "    </tr>\n",
       "  </tbody>\n",
       "</table>\n",
       "<p>98988 rows × 16 columns</p>\n",
       "</div>"
      ],
      "text/plain": [
       "        MinTemp  MaxTemp  Rainfall  Evaporation  Sunshine  WindGustSpeed  \\\n",
       "0          13.4     22.9       0.6         20.0      20.0           44.0   \n",
       "1           7.4     25.1       0.0         20.0      20.0           44.0   \n",
       "2          12.9     25.7       0.0         20.0      20.0           46.0   \n",
       "3           9.2     28.0       0.0         20.0      20.0           24.0   \n",
       "4          17.5     32.3       1.0         20.0      20.0           41.0   \n",
       "...         ...      ...       ...          ...       ...            ...   \n",
       "144548     16.9     33.2       0.0         20.0      20.0           43.0   \n",
       "144549     15.1     36.8       0.0         20.0      20.0           31.0   \n",
       "144550     17.3     37.8       0.0         20.0      20.0           39.0   \n",
       "144551     20.1     38.5       0.0         20.0      20.0           43.0   \n",
       "144552     22.5     39.6       0.0         20.0      20.0           76.0   \n",
       "\n",
       "        WindSpeed9am  WindSpeed3pm  Humidity9am  Humidity3pm  Pressure9am  \\\n",
       "0               20.0          24.0         71.0         22.0       1007.7   \n",
       "1                4.0          22.0         44.0         25.0       1010.6   \n",
       "2               19.0          26.0         38.0         30.0       1007.6   \n",
       "3               11.0           9.0         45.0         16.0       1017.6   \n",
       "4                7.0          20.0         82.0         33.0       1010.8   \n",
       "...              ...           ...          ...          ...          ...   \n",
       "144548          24.0          26.0         22.0         13.0       1014.1   \n",
       "144549          19.0          20.0         16.0          8.0       1012.6   \n",
       "144550          26.0           9.0         15.0          8.0       1011.9   \n",
       "144551          28.0          17.0         22.0          9.0       1014.0   \n",
       "144552          30.0          13.0         16.0          9.0       1012.1   \n",
       "\n",
       "        Pressure3pm  Cloud9am  Cloud3pm  Temp9am  Temp3pm  \n",
       "0            1007.1       8.0      20.0     16.9     21.8  \n",
       "1            1007.8      20.0      20.0     17.2     24.3  \n",
       "2            1008.7      20.0       2.0     21.0     23.2  \n",
       "3            1012.8      20.0      20.0     18.1     26.5  \n",
       "4            1006.0       7.0       8.0     17.8     29.7  \n",
       "...             ...       ...       ...      ...      ...  \n",
       "144548       1009.8      20.0      20.0     23.7     31.8  \n",
       "144549       1007.6      20.0      20.0     28.9     34.8  \n",
       "144550       1008.0      20.0      20.0     29.7     35.7  \n",
       "144551       1009.2      20.0      20.0     29.8     37.2  \n",
       "144552       1006.2      20.0      20.0     30.1     37.4  \n",
       "\n",
       "[98988 rows x 16 columns]"
      ]
     },
     "execution_count": 38,
     "metadata": {},
     "output_type": "execute_result"
    }
   ],
   "source": [
    "train_inputs3[numeric_cols]"
   ]
  },
  {
   "cell_type": "markdown",
   "metadata": {
    "id": "jXmukDGoPGPc"
   },
   "source": [
    "All the missing values are replaced by the constant value 20, which is provided by us.\n",
    "\n",
    "When we use strategy = constant the missing values are filled with the value that we provided as fill_value. If left to default it fills 0 for numeric columns and \"missing_value\" for string or object datatypes"
   ]
  },
  {
   "cell_type": "markdown",
   "metadata": {
    "id": "beR8363aPGPc"
   },
   "source": [
    "## Multivariate Feature Imputation"
   ]
  },
  {
   "cell_type": "markdown",
   "metadata": {
    "id": "uXFHg0asPGPd"
   },
   "source": [
    "It is more sophisticated approach to impute missing values. It models each feature with missing values as a function of other features and estimates the values to fill in place of missing values\n",
    "\n",
    "`IterativeImputer` is the function used to impute missing values"
   ]
  },
  {
   "cell_type": "markdown",
   "metadata": {
    "id": "vr1mGZXkPGPd"
   },
   "source": [
    "## Note \n",
    ">This estimator is still experimental for now: default parameters or details of behaviour might change without any deprecation cycle. Resolving the following issues would help stabilize IterativeImputer: convergence criteria (#14338), default estimators (#13286), and use of random state (#15611). To use it, you need to explicitly import enable_iterative_imputer.\n"
   ]
  },
  {
   "cell_type": "markdown",
   "metadata": {
    "executionInfo": {
     "elapsed": 109,
     "status": "aborted",
     "timestamp": 1627377357009,
     "user": {
      "displayName": "Satyam Tiwari",
      "photoUrl": "https://lh3.googleusercontent.com/a-/AOh14GjqLI34ChbXF3k3oSReFsdP3EQ-tinTtJVxPtDl8Q=s64",
      "userId": "18063518489999743566"
     },
     "user_tz": -330
    },
    "id": "k7Rm9PGNPGPd"
   },
   "source": [
    "Lets import IterativeImputer from sklearn.impute\n"
   ]
  },
  {
   "cell_type": "code",
   "execution_count": 39,
   "metadata": {
    "executionInfo": {
     "elapsed": 110,
     "status": "aborted",
     "timestamp": 1627377357010,
     "user": {
      "displayName": "Satyam Tiwari",
      "photoUrl": "https://lh3.googleusercontent.com/a-/AOh14GjqLI34ChbXF3k3oSReFsdP3EQ-tinTtJVxPtDl8Q=s64",
      "userId": "18063518489999743566"
     },
     "user_tz": -330
    },
    "id": "ft_SiwcSPGPd"
   },
   "outputs": [],
   "source": [
    "from sklearn.experimental import enable_iterative_imputer\n",
    "from sklearn.impute import IterativeImputer"
   ]
  },
  {
   "cell_type": "code",
   "execution_count": 40,
   "metadata": {
    "executionInfo": {
     "elapsed": 110,
     "status": "aborted",
     "timestamp": 1627377357011,
     "user": {
      "displayName": "Satyam Tiwari",
      "photoUrl": "https://lh3.googleusercontent.com/a-/AOh14GjqLI34ChbXF3k3oSReFsdP3EQ-tinTtJVxPtDl8Q=s64",
      "userId": "18063518489999743566"
     },
     "user_tz": -330
    },
    "id": "dLMSB7TAPGPd"
   },
   "outputs": [
    {
     "name": "stderr",
     "output_type": "stream",
     "text": [
      "/opt/conda/lib/python3.9/site-packages/sklearn/impute/_iterative.py:685: ConvergenceWarning: [IterativeImputer] Early stopping criterion not reached.\n",
      "  warnings.warn(\"[IterativeImputer] Early stopping criterion not\"\n"
     ]
    }
   ],
   "source": [
    "# Model Creation\n",
    "imputer = IterativeImputer()\n",
    "# fitting the imputer on the original dataset\n",
    "imputer.fit(df[numeric_cols])\n",
    "# Imputing the missing values in train, validation and test inputs\n",
    "train_inputs4[numeric_cols]=imputer.transform(train_inputs4[numeric_cols])\n",
    "val_inputs4[numeric_cols]=imputer.transform(val_inputs4[numeric_cols])\n",
    "test_inputs4[numeric_cols]=imputer.transform(test_inputs4[numeric_cols])"
   ]
  },
  {
   "cell_type": "markdown",
   "metadata": {},
   "source": [
    "Now let's see the number of missing values in the train_inputs after imputation"
   ]
  },
  {
   "cell_type": "code",
   "execution_count": 41,
   "metadata": {
    "executionInfo": {
     "elapsed": 114,
     "status": "aborted",
     "timestamp": 1627377357016,
     "user": {
      "displayName": "Satyam Tiwari",
      "photoUrl": "https://lh3.googleusercontent.com/a-/AOh14GjqLI34ChbXF3k3oSReFsdP3EQ-tinTtJVxPtDl8Q=s64",
      "userId": "18063518489999743566"
     },
     "user_tz": -330
    },
    "id": "kWA82wekPGPe"
   },
   "outputs": [
    {
     "data": {
      "text/plain": [
       "MinTemp          0\n",
       "MaxTemp          0\n",
       "Rainfall         0\n",
       "Evaporation      0\n",
       "Sunshine         0\n",
       "WindGustSpeed    0\n",
       "WindSpeed9am     0\n",
       "WindSpeed3pm     0\n",
       "Humidity9am      0\n",
       "Humidity3pm      0\n",
       "Pressure9am      0\n",
       "Pressure3pm      0\n",
       "Cloud9am         0\n",
       "Cloud3pm         0\n",
       "Temp9am          0\n",
       "Temp3pm          0\n",
       "dtype: int64"
      ]
     },
     "execution_count": 41,
     "metadata": {},
     "output_type": "execute_result"
    }
   ],
   "source": [
    "train_inputs4[numeric_cols].isna().sum()"
   ]
  },
  {
   "cell_type": "code",
   "execution_count": 42,
   "metadata": {
    "executionInfo": {
     "elapsed": 115,
     "status": "aborted",
     "timestamp": 1627377357017,
     "user": {
      "displayName": "Satyam Tiwari",
      "photoUrl": "https://lh3.googleusercontent.com/a-/AOh14GjqLI34ChbXF3k3oSReFsdP3EQ-tinTtJVxPtDl8Q=s64",
      "userId": "18063518489999743566"
     },
     "user_tz": -330
    },
    "id": "sGIZOzQBPGPe"
   },
   "outputs": [
    {
     "data": {
      "text/html": [
       "<div>\n",
       "<style scoped>\n",
       "    .dataframe tbody tr th:only-of-type {\n",
       "        vertical-align: middle;\n",
       "    }\n",
       "\n",
       "    .dataframe tbody tr th {\n",
       "        vertical-align: top;\n",
       "    }\n",
       "\n",
       "    .dataframe thead th {\n",
       "        text-align: right;\n",
       "    }\n",
       "</style>\n",
       "<table border=\"1\" class=\"dataframe\">\n",
       "  <thead>\n",
       "    <tr style=\"text-align: right;\">\n",
       "      <th></th>\n",
       "      <th>MinTemp</th>\n",
       "      <th>MaxTemp</th>\n",
       "      <th>Rainfall</th>\n",
       "      <th>Evaporation</th>\n",
       "      <th>Sunshine</th>\n",
       "      <th>WindGustSpeed</th>\n",
       "      <th>WindSpeed9am</th>\n",
       "      <th>WindSpeed3pm</th>\n",
       "      <th>Humidity9am</th>\n",
       "      <th>Humidity3pm</th>\n",
       "      <th>Pressure9am</th>\n",
       "      <th>Pressure3pm</th>\n",
       "      <th>Cloud9am</th>\n",
       "      <th>Cloud3pm</th>\n",
       "      <th>Temp9am</th>\n",
       "      <th>Temp3pm</th>\n",
       "    </tr>\n",
       "  </thead>\n",
       "  <tbody>\n",
       "    <tr>\n",
       "      <th>0</th>\n",
       "      <td>13.4</td>\n",
       "      <td>22.9</td>\n",
       "      <td>0.6</td>\n",
       "      <td>6.280487</td>\n",
       "      <td>6.998127</td>\n",
       "      <td>44.0</td>\n",
       "      <td>20.0</td>\n",
       "      <td>24.0</td>\n",
       "      <td>71.0</td>\n",
       "      <td>22.0</td>\n",
       "      <td>1007.7</td>\n",
       "      <td>1007.1</td>\n",
       "      <td>8.000000</td>\n",
       "      <td>5.145859</td>\n",
       "      <td>16.9</td>\n",
       "      <td>21.8</td>\n",
       "    </tr>\n",
       "    <tr>\n",
       "      <th>1</th>\n",
       "      <td>7.4</td>\n",
       "      <td>25.1</td>\n",
       "      <td>0.0</td>\n",
       "      <td>6.254494</td>\n",
       "      <td>10.857125</td>\n",
       "      <td>44.0</td>\n",
       "      <td>4.0</td>\n",
       "      <td>22.0</td>\n",
       "      <td>44.0</td>\n",
       "      <td>25.0</td>\n",
       "      <td>1010.6</td>\n",
       "      <td>1007.8</td>\n",
       "      <td>1.915297</td>\n",
       "      <td>2.645441</td>\n",
       "      <td>17.2</td>\n",
       "      <td>24.3</td>\n",
       "    </tr>\n",
       "    <tr>\n",
       "      <th>2</th>\n",
       "      <td>12.9</td>\n",
       "      <td>25.7</td>\n",
       "      <td>0.0</td>\n",
       "      <td>8.565610</td>\n",
       "      <td>11.798533</td>\n",
       "      <td>46.0</td>\n",
       "      <td>19.0</td>\n",
       "      <td>26.0</td>\n",
       "      <td>38.0</td>\n",
       "      <td>30.0</td>\n",
       "      <td>1007.6</td>\n",
       "      <td>1008.7</td>\n",
       "      <td>2.020142</td>\n",
       "      <td>2.000000</td>\n",
       "      <td>21.0</td>\n",
       "      <td>23.2</td>\n",
       "    </tr>\n",
       "    <tr>\n",
       "      <th>3</th>\n",
       "      <td>9.2</td>\n",
       "      <td>28.0</td>\n",
       "      <td>0.0</td>\n",
       "      <td>6.829046</td>\n",
       "      <td>11.567214</td>\n",
       "      <td>24.0</td>\n",
       "      <td>11.0</td>\n",
       "      <td>9.0</td>\n",
       "      <td>45.0</td>\n",
       "      <td>16.0</td>\n",
       "      <td>1017.6</td>\n",
       "      <td>1012.8</td>\n",
       "      <td>1.188370</td>\n",
       "      <td>1.973883</td>\n",
       "      <td>18.1</td>\n",
       "      <td>26.5</td>\n",
       "    </tr>\n",
       "    <tr>\n",
       "      <th>4</th>\n",
       "      <td>17.5</td>\n",
       "      <td>32.3</td>\n",
       "      <td>1.0</td>\n",
       "      <td>7.353549</td>\n",
       "      <td>5.509480</td>\n",
       "      <td>41.0</td>\n",
       "      <td>7.0</td>\n",
       "      <td>20.0</td>\n",
       "      <td>82.0</td>\n",
       "      <td>33.0</td>\n",
       "      <td>1010.8</td>\n",
       "      <td>1006.0</td>\n",
       "      <td>7.000000</td>\n",
       "      <td>8.000000</td>\n",
       "      <td>17.8</td>\n",
       "      <td>29.7</td>\n",
       "    </tr>\n",
       "    <tr>\n",
       "      <th>...</th>\n",
       "      <td>...</td>\n",
       "      <td>...</td>\n",
       "      <td>...</td>\n",
       "      <td>...</td>\n",
       "      <td>...</td>\n",
       "      <td>...</td>\n",
       "      <td>...</td>\n",
       "      <td>...</td>\n",
       "      <td>...</td>\n",
       "      <td>...</td>\n",
       "      <td>...</td>\n",
       "      <td>...</td>\n",
       "      <td>...</td>\n",
       "      <td>...</td>\n",
       "      <td>...</td>\n",
       "      <td>...</td>\n",
       "    </tr>\n",
       "    <tr>\n",
       "      <th>144548</th>\n",
       "      <td>16.9</td>\n",
       "      <td>33.2</td>\n",
       "      <td>0.0</td>\n",
       "      <td>10.887596</td>\n",
       "      <td>12.530965</td>\n",
       "      <td>43.0</td>\n",
       "      <td>24.0</td>\n",
       "      <td>26.0</td>\n",
       "      <td>22.0</td>\n",
       "      <td>13.0</td>\n",
       "      <td>1014.1</td>\n",
       "      <td>1009.8</td>\n",
       "      <td>1.398188</td>\n",
       "      <td>1.728154</td>\n",
       "      <td>23.7</td>\n",
       "      <td>31.8</td>\n",
       "    </tr>\n",
       "    <tr>\n",
       "      <th>144549</th>\n",
       "      <td>15.1</td>\n",
       "      <td>36.8</td>\n",
       "      <td>0.0</td>\n",
       "      <td>10.616839</td>\n",
       "      <td>14.907601</td>\n",
       "      <td>31.0</td>\n",
       "      <td>19.0</td>\n",
       "      <td>20.0</td>\n",
       "      <td>16.0</td>\n",
       "      <td>8.0</td>\n",
       "      <td>1012.6</td>\n",
       "      <td>1007.6</td>\n",
       "      <td>-0.765755</td>\n",
       "      <td>0.883177</td>\n",
       "      <td>28.9</td>\n",
       "      <td>34.8</td>\n",
       "    </tr>\n",
       "    <tr>\n",
       "      <th>144550</th>\n",
       "      <td>17.3</td>\n",
       "      <td>37.8</td>\n",
       "      <td>0.0</td>\n",
       "      <td>11.784237</td>\n",
       "      <td>13.669456</td>\n",
       "      <td>39.0</td>\n",
       "      <td>26.0</td>\n",
       "      <td>9.0</td>\n",
       "      <td>15.0</td>\n",
       "      <td>8.0</td>\n",
       "      <td>1011.9</td>\n",
       "      <td>1008.0</td>\n",
       "      <td>-0.233742</td>\n",
       "      <td>1.739605</td>\n",
       "      <td>29.7</td>\n",
       "      <td>35.7</td>\n",
       "    </tr>\n",
       "    <tr>\n",
       "      <th>144551</th>\n",
       "      <td>20.1</td>\n",
       "      <td>38.5</td>\n",
       "      <td>0.0</td>\n",
       "      <td>11.894990</td>\n",
       "      <td>13.462730</td>\n",
       "      <td>43.0</td>\n",
       "      <td>28.0</td>\n",
       "      <td>17.0</td>\n",
       "      <td>22.0</td>\n",
       "      <td>9.0</td>\n",
       "      <td>1014.0</td>\n",
       "      <td>1009.2</td>\n",
       "      <td>0.524701</td>\n",
       "      <td>1.537952</td>\n",
       "      <td>29.8</td>\n",
       "      <td>37.2</td>\n",
       "    </tr>\n",
       "    <tr>\n",
       "      <th>144552</th>\n",
       "      <td>22.5</td>\n",
       "      <td>39.6</td>\n",
       "      <td>0.0</td>\n",
       "      <td>13.546103</td>\n",
       "      <td>11.006707</td>\n",
       "      <td>76.0</td>\n",
       "      <td>30.0</td>\n",
       "      <td>13.0</td>\n",
       "      <td>16.0</td>\n",
       "      <td>9.0</td>\n",
       "      <td>1012.1</td>\n",
       "      <td>1006.2</td>\n",
       "      <td>1.509288</td>\n",
       "      <td>3.075082</td>\n",
       "      <td>30.1</td>\n",
       "      <td>37.4</td>\n",
       "    </tr>\n",
       "  </tbody>\n",
       "</table>\n",
       "<p>98988 rows × 16 columns</p>\n",
       "</div>"
      ],
      "text/plain": [
       "        MinTemp  MaxTemp  Rainfall  Evaporation   Sunshine  WindGustSpeed  \\\n",
       "0          13.4     22.9       0.6     6.280487   6.998127           44.0   \n",
       "1           7.4     25.1       0.0     6.254494  10.857125           44.0   \n",
       "2          12.9     25.7       0.0     8.565610  11.798533           46.0   \n",
       "3           9.2     28.0       0.0     6.829046  11.567214           24.0   \n",
       "4          17.5     32.3       1.0     7.353549   5.509480           41.0   \n",
       "...         ...      ...       ...          ...        ...            ...   \n",
       "144548     16.9     33.2       0.0    10.887596  12.530965           43.0   \n",
       "144549     15.1     36.8       0.0    10.616839  14.907601           31.0   \n",
       "144550     17.3     37.8       0.0    11.784237  13.669456           39.0   \n",
       "144551     20.1     38.5       0.0    11.894990  13.462730           43.0   \n",
       "144552     22.5     39.6       0.0    13.546103  11.006707           76.0   \n",
       "\n",
       "        WindSpeed9am  WindSpeed3pm  Humidity9am  Humidity3pm  Pressure9am  \\\n",
       "0               20.0          24.0         71.0         22.0       1007.7   \n",
       "1                4.0          22.0         44.0         25.0       1010.6   \n",
       "2               19.0          26.0         38.0         30.0       1007.6   \n",
       "3               11.0           9.0         45.0         16.0       1017.6   \n",
       "4                7.0          20.0         82.0         33.0       1010.8   \n",
       "...              ...           ...          ...          ...          ...   \n",
       "144548          24.0          26.0         22.0         13.0       1014.1   \n",
       "144549          19.0          20.0         16.0          8.0       1012.6   \n",
       "144550          26.0           9.0         15.0          8.0       1011.9   \n",
       "144551          28.0          17.0         22.0          9.0       1014.0   \n",
       "144552          30.0          13.0         16.0          9.0       1012.1   \n",
       "\n",
       "        Pressure3pm  Cloud9am  Cloud3pm  Temp9am  Temp3pm  \n",
       "0            1007.1  8.000000  5.145859     16.9     21.8  \n",
       "1            1007.8  1.915297  2.645441     17.2     24.3  \n",
       "2            1008.7  2.020142  2.000000     21.0     23.2  \n",
       "3            1012.8  1.188370  1.973883     18.1     26.5  \n",
       "4            1006.0  7.000000  8.000000     17.8     29.7  \n",
       "...             ...       ...       ...      ...      ...  \n",
       "144548       1009.8  1.398188  1.728154     23.7     31.8  \n",
       "144549       1007.6 -0.765755  0.883177     28.9     34.8  \n",
       "144550       1008.0 -0.233742  1.739605     29.7     35.7  \n",
       "144551       1009.2  0.524701  1.537952     29.8     37.2  \n",
       "144552       1006.2  1.509288  3.075082     30.1     37.4  \n",
       "\n",
       "[98988 rows x 16 columns]"
      ]
     },
     "execution_count": 42,
     "metadata": {},
     "output_type": "execute_result"
    }
   ],
   "source": [
    "train_inputs4[numeric_cols]"
   ]
  },
  {
   "cell_type": "markdown",
   "metadata": {
    "id": "9EYY9X-FPGPe"
   },
   "source": [
    "It can be seen that unlinke other methods where the value for each missing value was same ( either mean, median, mode, constant) the values here for each missing values are different."
   ]
  },
  {
   "cell_type": "markdown",
   "metadata": {
    "id": "3_s4-Y_7PGPe"
   },
   "source": [
    "There's a parameter in `IterativeImputer` named `initial_strategy` which is same as `strategy` parameter in `SimpleImputer`."
   ]
  },
  {
   "cell_type": "markdown",
   "metadata": {
    "id": "i7bARfutPGPf"
   },
   "source": [
    "`IterativeImputer(estimator=None, *, missing_values=nan, sample_posterior=False, max_iter=10, tol=0.001, n_nearest_features=None, initial_strategy='mean', imputation_order='ascending', skip_complete=False, min_value=- inf, max_value=inf, verbose=0, random_state=None, add_indicator=False)` is the function for Iterative imputer \n",
    "\n"
   ]
  },
  {
   "cell_type": "markdown",
   "metadata": {
    "id": "RG3NH9evPGPg"
   },
   "source": [
    "# References \n",
    "Here is the list of references where you can find more information about each Imputation technique.\n",
    "\n",
    "\n",
    "https://scikit-learn.org/stable/modules/generated/sklearn.impute.SimpleImputer.html#sklearn.impute.SimpleImputer\n",
    "\n",
    "https://scikit-learn.org/stable/modules/generated/sklearn.impute.IterativeImputer.html#sklearn.impute.IterativeImputer\n",
    "\n",
    "https://scikit-learn.org/stable/modules/impute.html\n",
    "\n",
    "\n",
    "\n"
   ]
  },
  {
   "cell_type": "code",
   "execution_count": 43,
   "metadata": {
    "executionInfo": {
     "elapsed": 121,
     "status": "aborted",
     "timestamp": 1627377357027,
     "user": {
      "displayName": "Satyam Tiwari",
      "photoUrl": "https://lh3.googleusercontent.com/a-/AOh14GjqLI34ChbXF3k3oSReFsdP3EQ-tinTtJVxPtDl8Q=s64",
      "userId": "18063518489999743566"
     },
     "user_tz": -330
    },
    "id": "V5mlb89NPGPg"
   },
   "outputs": [
    {
     "data": {
      "application/javascript": [
       "window.require && require([\"base/js/namespace\"],function(Jupyter){Jupyter.notebook.save_checkpoint()})"
      ],
      "text/plain": [
       "<IPython.core.display.Javascript object>"
      ]
     },
     "metadata": {},
     "output_type": "display_data"
    },
    {
     "name": "stdout",
     "output_type": "stream",
     "text": [
      "[jovian] Updating notebook \"satyamtiwari1920/imputation-methods\" on https://jovian.ai\u001b[0m\n",
      "[jovian] Uploading additional outputs...\u001b[0m\n",
      "[jovian] Committed successfully! https://jovian.ai/satyamtiwari1920/imputation-methods\u001b[0m\n"
     ]
    },
    {
     "data": {
      "text/plain": [
       "'https://jovian.ai/satyamtiwari1920/imputation-methods'"
      ]
     },
     "execution_count": 43,
     "metadata": {},
     "output_type": "execute_result"
    }
   ],
   "source": [
    "jovian.commit(project=\"imputation-methods\", outputs=['weather-dataset-rattle-package/weatherAUS.csv'])"
   ]
  },
  {
   "cell_type": "code",
   "execution_count": null,
   "metadata": {},
   "outputs": [],
   "source": []
  }
 ],
 "metadata": {
  "colab": {
   "name": "imputation-methods.ipynb",
   "provenance": []
  },
  "kernelspec": {
   "display_name": "Python 3",
   "language": "python",
   "name": "python3"
  },
  "language_info": {
   "codemirror_mode": {
    "name": "ipython",
    "version": 3
   },
   "file_extension": ".py",
   "mimetype": "text/x-python",
   "name": "python",
   "nbconvert_exporter": "python",
   "pygments_lexer": "ipython3",
   "version": "3.7.9"
  }
 },
 "nbformat": 4,
 "nbformat_minor": 1
}
